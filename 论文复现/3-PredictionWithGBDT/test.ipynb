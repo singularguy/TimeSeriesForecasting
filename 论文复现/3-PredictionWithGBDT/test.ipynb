{
 "cells": [
  {
   "cell_type": "code",
   "execution_count": 2,
   "metadata": {},
   "outputs": [
    {
     "name": "stdout",
     "output_type": "stream",
     "text": [
      "    Gross Income    Population   Hourly load       Import       Export  \\\n",
      "0  374540.118847  7.915790e+06    261.889132  1344.967022  1730.498633   \n",
      "1  950714.306410  7.896181e+06  13270.747440  3987.795503  4878.051004   \n",
      "2  731993.941811  9.120610e+05   3560.719337  1551.809795  3204.860387   \n",
      "3  598658.484197  4.944203e+06  19221.406349  2276.100745  4112.402818   \n",
      "4  156018.640442  5.755876e+05   2973.254555    58.102700   662.623364   \n",
      "\n",
      "   Gross Production  Transmitted energy  Net Electricity  \n",
      "0      13726.351026        13850.648631     2.627105e+06  \n",
      "1       7995.433009         2688.702588     2.696558e+06  \n",
      "2       2369.322343         5987.911767     7.455222e+05  \n",
      "3      10438.486773         7174.310508     1.686628e+06  \n",
      "4      11898.920257        16088.744154     2.128831e+05  \n",
      "(420, 7)\n",
      "(420,)\n"
     ]
    }
   ],
   "source": [
    "import numpy as np\n",
    "import pandas as pd\n",
    "from sklearn.model_selection import train_test_split\n",
    "from sklearn.preprocessing import StandardScaler\n",
    "import torch\n",
    "import torch.nn as nn\n",
    "from torch import optim\n",
    "\n",
    "# 设置随机种子\n",
    "np.random.seed(42)\n",
    "torch.manual_seed(42)\n",
    "# Step 1: Generate Synthetic Dataset\n",
    "def generate_data(n_samples=420):\n",
    "    gross_income = np.random.rand(n_samples) * 1000000\n",
    "    population = np.random.rand(n_samples) * 10000000\n",
    "    hourly_load = np.random.rand(n_samples) * 20000\n",
    "    imp = np.random.rand(n_samples) * 5000\n",
    "    exp = np.random.rand(n_samples) * 5000\n",
    "    gross_production = np.random.rand(n_samples) * 15000\n",
    "    transmitted_energy = np.random.rand(n_samples) * 20000#\n",
    "    net_electricity = (gross_income * 0.5 + population * 0.3 + hourly_load * 0.2) + np.random.randn(n_samples) * 100000\n",
    "    data = pd.DataFrame({\n",
    "        'Gross Income': gross_income,\n",
    "        'Population': population,\n",
    "        'Hourly load': hourly_load,\n",
    "        'Import': imp,\n",
    "        'Export': exp,\n",
    "        'Gross Production': gross_production,\n",
    "        'Transmitted energy': transmitted_energy,\n",
    "        'Net Electricity': net_electricity\n",
    "    })\n",
    "    return data\n",
    "\n",
    "data = generate_data()\n",
    "print(data.head())\n",
    "\n",
    "# Step 2: Split and Normalize Data\n",
    "X = data.drop('Net Electricity', axis=1).values\n",
    "y = data['Net Electricity'].values\n",
    "\n",
    "\n",
    "# 展示Xy的维度\n",
    "print(X.shape)\n",
    "print(y.shape)"
   ]
  }
 ],
 "metadata": {
  "kernelspec": {
   "display_name": "pytorch",
   "language": "python",
   "name": "python3"
  },
  "language_info": {
   "codemirror_mode": {
    "name": "ipython",
    "version": 3
   },
   "file_extension": ".py",
   "mimetype": "text/x-python",
   "name": "python",
   "nbconvert_exporter": "python",
   "pygments_lexer": "ipython3",
   "version": "3.8.20"
  }
 },
 "nbformat": 4,
 "nbformat_minor": 2
}
