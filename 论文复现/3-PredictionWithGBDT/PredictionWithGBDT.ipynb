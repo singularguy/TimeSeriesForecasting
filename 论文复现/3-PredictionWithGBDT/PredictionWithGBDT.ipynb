{
 "cells": [
  {
   "cell_type": "code",
   "execution_count": 7,
   "metadata": {},
   "outputs": [
    {
     "name": "stdout",
     "output_type": "stream",
     "text": [
      "   Gross Income   Population  Hourly load    Import    Export  \\\n",
      "0    374.540119  3736.408185    14.599966  3.190723  1.494560   \n",
      "1    950.714306  3329.120962     3.690240  2.296462  0.474089   \n",
      "2    731.993942  1761.539125     6.932794  4.822493  0.631796   \n",
      "3    598.658484  6072.666701    13.265613  1.094892  0.903356   \n",
      "4    156.018640  4766.241605     9.641787  2.939282  1.018267   \n",
      "\n",
      "   Gross Production  Transmitted energy  Net Electricity  \n",
      "0         12.708549           14.831104      1227.238914  \n",
      "1          7.417756           17.622038      1377.514922  \n",
      "2          2.931984            9.263598       953.224988  \n",
      "3         11.049627            5.783575      2077.593870  \n",
      "4          6.280172            6.376931      1552.279551  \n",
      "Iteration 1, Sparrow 1: Val Loss = 0.0007156179053708911\n",
      "Iteration 1, Sparrow 2: Val Loss = 0.12109171599149704\n",
      "Iteration 1, Sparrow 3: Val Loss = 0.351617693901062\n",
      "Iteration 1, Sparrow 4: Val Loss = 0.0007220886182039976\n",
      "Iteration 1, Sparrow 5: Val Loss = 0.0015001521678641438\n",
      "Iteration 2, Sparrow 1: Val Loss = 0.0007523862295784056\n",
      "Iteration 2, Sparrow 2: Val Loss = 0.19565336406230927\n",
      "Iteration 2, Sparrow 3: Val Loss = 0.37263110280036926\n",
      "Iteration 2, Sparrow 4: Val Loss = 0.0007854127907194197\n",
      "Iteration 2, Sparrow 5: Val Loss = 0.013094354420900345\n",
      "Epoch 0, Loss: 0.6970571279525757\n",
      "Epoch 10, Loss: 0.03668428584933281\n",
      "Epoch 20, Loss: 0.010496312752366066\n",
      "Epoch 30, Loss: 0.005617300979793072\n",
      "Epoch 40, Loss: 0.003480666782706976\n",
      "Epoch 50, Loss: 0.0018147570081055164\n",
      "Epoch 60, Loss: 0.0008747789543122053\n",
      "Epoch 70, Loss: 0.0008073357166722417\n",
      "Epoch 80, Loss: 0.0007723720045760274\n",
      "Epoch 90, Loss: 0.0007556133205071092\n",
      "Test Loss: 0.0007595293573103845\n",
      "RMSE: 103.24691267478453\n",
      "MAPE: 17.509290841806987%\n",
      "MSE: 0.0007595293573103845\n",
      "R²: 0.9861496897580518\n",
      "PCD: 7.3586006944558955%\n"
     ]
    }
   ],
   "source": [
    "import numpy as np\n",
    "import pandas as pd\n",
    "from sklearn.model_selection import train_test_split\n",
    "from sklearn.preprocessing import MinMaxScaler  # 使用MinMaxScaler进行归一化\n",
    "import torch\n",
    "import torch.nn as nn\n",
    "from torch import optim\n",
    "\n",
    "# 设置随机种子以确保实验的可重复性\n",
    "np.random.seed(42)\n",
    "torch.manual_seed(42)\n",
    "\n",
    "# Step 1: 生成合成数据集\n",
    "def generate_data(n_samples=420):\n",
    "    \"\"\"\n",
    "    生成合成的数据集,包含多个特征和目标变量“净电力”.\n",
    "    :param n_samples: 生成的样本数量\n",
    "    :return: 包含特征和目标变量的DataFrame\n",
    "    \"\"\"\n",
    "    gross_income = np.random.rand(n_samples) * 1000  # 总收入\n",
    "    population = np.random.rand(n_samples) * 10000  # 人口\n",
    "    hourly_load = np.random.rand(n_samples) * 20  # 每小时负荷\n",
    "    imp = np.random.rand(n_samples) * 5  # 进口\n",
    "    exp = np.random.rand(n_samples) * 5  # 出口\n",
    "    gross_production = np.random.rand(n_samples) * 15  # 总生产\n",
    "    transmitted_energy = np.random.rand(n_samples) * 20  # 传输能量\n",
    "    # 目标变量“净电力”,由特征的线性组合加上噪声生成\n",
    "    net_electricity = (gross_income * 0.5 + population * 0.3 + hourly_load * 0.2) + np.random.randn(n_samples) * 100\n",
    "    data = pd.DataFrame({\n",
    "        'Gross Income': gross_income,\n",
    "        'Population': population,\n",
    "        'Hourly load': hourly_load,\n",
    "        'Import': imp,\n",
    "        'Export': exp,\n",
    "        'Gross Production': gross_production,\n",
    "        'Transmitted energy': transmitted_energy,\n",
    "        'Net Electricity': net_electricity\n",
    "    })\n",
    "    return data\n",
    "\n",
    "# 生成10000个样本的数据集\n",
    "data = generate_data(n_samples=10000)\n",
    "print(data.head())\n",
    "\n",
    "# Step 2: 数据集划分和归一化\n",
    "# 特征矩阵(去除目标变量)\n",
    "X = data.drop('Net Electricity', axis=1).values\n",
    "# 目标变量\n",
    "y = data['Net Electricity'].values\n",
    "\n",
    "# 将数据集划分为训练集、验证集和测试集\n",
    "X_train, X_temp, y_train, y_temp = train_test_split(X, y, test_size=0.2, random_state=42)\n",
    "X_val, X_test, y_val, y_test = train_test_split(X_temp, y_temp, test_size=0.5, random_state=42)\n",
    "\n",
    "# 使用MinMaxScaler对数据进行归一化处理\n",
    "scaler = MinMaxScaler()\n",
    "X_train = scaler.fit_transform(X_train)\n",
    "X_val = scaler.transform(X_val)\n",
    "X_test = scaler.transform(X_test)\n",
    "\n",
    "# 对目标变量进行归一化处理\n",
    "y_scaler = MinMaxScaler()\n",
    "y_train = y_scaler.fit_transform(y_train.reshape(-1, 1)).flatten()\n",
    "y_val = y_scaler.transform(y_val.reshape(-1, 1)).flatten()\n",
    "y_test = y_scaler.transform(y_test.reshape(-1, 1)).flatten()\n",
    "\n",
    "# Step 3: 定义神经网络模型\n",
    "class NeuralNet(nn.Module):\n",
    "    \"\"\"\n",
    "    定义一个简单的全连接神经网络模型.\n",
    "    :param input_size: 输入特征的数量\n",
    "    :param num_layers: 隐藏层的数量\n",
    "    :param num_neurons: 每层神经元的数量\n",
    "    \"\"\"\n",
    "    def __init__(self, input_size, num_layers, num_neurons):\n",
    "        super(NeuralNet, self).__init__()\n",
    "        layers = []\n",
    "        # 第一层:输入层到隐藏层\n",
    "        layers.append(nn.Linear(input_size, num_neurons))\n",
    "        layers.append(nn.ReLU())\n",
    "        # 添加额外的隐藏层\n",
    "        for _ in range(num_layers - 1):\n",
    "            layers.append(nn.Linear(num_neurons, num_neurons))\n",
    "            layers.append(nn.ReLU())\n",
    "        # 最后一层:隐藏层到输出层\n",
    "        layers.append(nn.Linear(num_neurons, 1))\n",
    "        self.model = nn.Sequential(*layers)\n",
    "    \n",
    "    def forward(self, x):\n",
    "        \"\"\"\n",
    "        定义前向传播过程.\n",
    "        :param x: 输入数据\n",
    "        :return: 模型的输出\n",
    "        \"\"\"\n",
    "        return self.model(x)\n",
    "\n",
    "# Step 4: 实现SSA优化器\n",
    "class SSAOptimizer:\n",
    "    \"\"\"\n",
    "    实现麻雀搜索算法(Sparrow Search Algorithm, SSA)来优化神经网络的超参数.\n",
    "    :param hyperparameter_space: 超参数搜索空间\n",
    "    :param population_size: 种群大小\n",
    "    :param max_iterations: 最大迭代次数\n",
    "    \"\"\"\n",
    "    def __init__(self, hyperparameter_space, population_size=10, max_iterations=50):\n",
    "        self.hyperparameter_space = hyperparameter_space\n",
    "        self.population_size = population_size\n",
    "        self.max_iterations = max_iterations\n",
    "        self.population = self.initialize_population()\n",
    "    \n",
    "    def initialize_population(self):\n",
    "        \"\"\"\n",
    "        初始化种群,每个个体包含一组超参数.\n",
    "        :return: 初始化的种群\n",
    "        \"\"\"\n",
    "        population = []\n",
    "        for _ in range(self.population_size):\n",
    "            individual = {}\n",
    "            for param, bounds in self.hyperparameter_space.items():\n",
    "                if isinstance(bounds, list):\n",
    "                    # 如果是离散值,随机选择一个\n",
    "                    individual[param] = np.random.choice(bounds)\n",
    "                else:\n",
    "                    # 如果是连续值,在范围内随机生成\n",
    "                    individual[param] = np.random.uniform(bounds[0], bounds[1])\n",
    "            population.append(individual)\n",
    "        return population\n",
    "    \n",
    "    def optimize(self, model_class, X_train, y_train, X_val, y_val):\n",
    "        \"\"\"\n",
    "        优化过程,找到最佳的超参数组合.\n",
    "        :param model_class: 神经网络模型类\n",
    "        :param X_train: 训练集特征\n",
    "        :param y_train: 训练集目标\n",
    "        :param X_val: 验证集特征\n",
    "        :param y_val: 验证集目标\n",
    "        :return: 最佳超参数组合\n",
    "        \"\"\"\n",
    "        best_hyperparams = None\n",
    "        best_loss = float('inf')\n",
    "        for iter in range(self.max_iterations):\n",
    "            for idx, individual in enumerate(self.population):\n",
    "                # 根据当前超参数创建模型\n",
    "                model = model_class(input_size=X_train.shape[1], num_layers=int(individual['num_layers']), num_neurons=int(individual['num_neurons']))\n",
    "                # 使用Adam优化器\n",
    "                optimizer = optim.Adam(model.parameters(), lr=individual['learning_rate'])\n",
    "                # 定义损失函数\n",
    "                loss_fn = nn.MSELoss()\n",
    "                # 训练模型\n",
    "                for epoch in range(100):\n",
    "                    inputs = torch.from_numpy(X_train).float()\n",
    "                    targets = torch.from_numpy(y_train).float().unsqueeze(1)\n",
    "                    optimizer.zero_grad()\n",
    "                    outputs = model(inputs)\n",
    "                    loss = loss_fn(outputs, targets)\n",
    "                    loss.backward()\n",
    "                    optimizer.step()\n",
    "                # 验证模型\n",
    "                model.eval()\n",
    "                with torch.no_grad():\n",
    "                    val_inputs = torch.from_numpy(X_val).float()\n",
    "                    val_targets = torch.from_numpy(y_val).float().unsqueeze(1)\n",
    "                    val_outputs = model(val_inputs)\n",
    "                    val_loss = loss_fn(val_outputs, val_targets)\n",
    "                print(f\"Iteration {iter+1}, Sparrow {idx+1}: Val Loss = {val_loss.item()}\")\n",
    "                # 更新最佳超参数\n",
    "                if val_loss < best_loss:\n",
    "                    best_loss = val_loss\n",
    "                    best_hyperparams = individual\n",
    "        return best_hyperparams\n",
    "\n",
    "# Step 5: 执行超参数优化\n",
    "# 定义超参数搜索空间\n",
    "hyperparameter_space = {\n",
    "    'learning_rate': [1e-6, 1e-5, 1e-4, 1e-3, 1e-2, 1e-1],  # 学习率\n",
    "    'num_layers': [1, 2, 3],  # 隐藏层数量\n",
    "    'num_neurons': [16, 32, 64]  # 每层神经元数量\n",
    "}\n",
    "\n",
    "# 创建SSA优化器\n",
    "ssa_optimizer = SSAOptimizer(hyperparameter_space, population_size=5, max_iterations=2)\n",
    "# 执行优化,找到最佳超参数\n",
    "best_hyperparams = ssa_optimizer.optimize(NeuralNet, X_train, y_train, X_val, y_val)\n",
    "\n",
    "# Step 6: 使用最佳超参数训练最终模型\n",
    "# 创建最终模型\n",
    "final_model = NeuralNet(input_size=X_train.shape[1], num_layers=int(best_hyperparams['num_layers']), num_neurons=int(best_hyperparams['num_neurons']))\n",
    "# 使用Adam优化器\n",
    "optimizer = optim.Adam(final_model.parameters(), lr=best_hyperparams['learning_rate'])\n",
    "# 定义损失函数\n",
    "loss_fn = nn.MSELoss()\n",
    "\n",
    "# 记录训练损失\n",
    "train_losses = []\n",
    "\n",
    "# 训练模型\n",
    "num_epochs = 100\n",
    "for epoch in range(num_epochs):\n",
    "    inputs = torch.from_numpy(X_train).float()\n",
    "    targets = torch.from_numpy(y_train).float().unsqueeze(1)\n",
    "    optimizer.zero_grad()\n",
    "    outputs = final_model(inputs)\n",
    "    loss = loss_fn(outputs, targets)\n",
    "    loss.backward()\n",
    "    optimizer.step()\n",
    "    train_losses.append(loss.item())  # 记录每轮的损失\n",
    "    if epoch % (num_epochs // 10) == 0:\n",
    "        print(f\"Epoch {epoch}, Loss: {loss.item()}\")\n",
    "\n",
    "# Step 8: 评估模型\n",
    "final_model.eval()\n",
    "with torch.no_grad():\n",
    "    test_inputs = torch.from_numpy(X_test).float()\n",
    "    test_targets = torch.from_numpy(y_test).float().unsqueeze(1)\n",
    "    test_outputs = final_model(test_inputs)\n",
    "    test_loss = loss_fn(test_outputs, test_targets)\n",
    "    print(f\"Test Loss: {test_loss.item()}\")\n",
    "\n",
    "# Step 9: 可视化测试集效果\n",
    "# 计算测试集的预测值\n",
    "predictions = final_model(torch.from_numpy(X_test).float()).detach().numpy().squeeze()\n",
    "\n",
    "# 反归一化预测值和真实值\n",
    "predictions = y_scaler.inverse_transform(predictions.reshape(-1, 1)).flatten()\n",
    "y_test_original = y_scaler.inverse_transform(y_test.reshape(-1, 1)).flatten()\n",
    "\n",
    "# 计算评估指标\n",
    "rmse_val = np.sqrt(np.mean((y_test_original - predictions) ** 2))\n",
    "mape_val = np.mean(np.abs((y_test_original - predictions) / y_test_original)) * 100\n",
    "r2 = 1 - (np.sum((y_test_original - predictions) ** 2) / np.sum((y_test_original - np.mean(y_test_original)) ** 2))\n",
    "pcd_val = np.mean(np.abs(predictions - y_test_original) / y_test_original) * 100\n",
    "\n",
    "# 输出评估结果\n",
    "print(f\"RMSE: {rmse_val}\")\n",
    "print(f\"MAPE: {mape_val}%\")\n",
    "print(f\"MSE: {test_loss.item()}\")\n",
    "print(f\"R²: {r2}\")\n",
    "print(f\"PCD: {pcd_val}%\")"
   ]
  },
  {
   "cell_type": "code",
   "execution_count": 11,
   "metadata": {},
   "outputs": [
    {
     "data": {
      "application/vnd.plotly.v1+json": {
       "config": {
        "plotlyServerURL": "https://plot.ly"
       },
       "data": [
        {
         "line": {
          "color": "royalblue",
          "dash": "dash",
          "width": 3
         },
         "mode": "lines",
         "name": "Training Loss",
         "type": "scatter",
         "x": [
          1,
          2,
          3,
          4,
          5,
          6,
          7,
          8,
          9,
          10,
          11,
          12,
          13,
          14,
          15,
          16,
          17,
          18,
          19,
          20,
          21,
          22,
          23,
          24,
          25,
          26,
          27,
          28,
          29,
          30,
          31,
          32,
          33,
          34,
          35,
          36,
          37,
          38,
          39,
          40,
          41,
          42,
          43,
          44,
          45,
          46,
          47,
          48,
          49,
          50,
          51,
          52,
          53,
          54,
          55,
          56,
          57,
          58,
          59,
          60,
          61,
          62,
          63,
          64,
          65,
          66,
          67,
          68,
          69,
          70,
          71,
          72,
          73,
          74,
          75,
          76,
          77,
          78,
          79,
          80,
          81,
          82,
          83,
          84,
          85,
          86,
          87,
          88,
          89,
          90,
          91,
          92,
          93,
          94,
          95,
          96,
          97,
          98,
          99,
          100
         ],
         "y": [
          0.6970571279525757,
          0.06846699863672256,
          0.19421762228012085,
          0.05305502563714981,
          0.046445250511169434,
          0.07112008333206177,
          0.07630696147680283,
          0.06064190715551376,
          0.038635849952697754,
          0.028344811871647835,
          0.03668428584933281,
          0.04601486027240753,
          0.03839048370718956,
          0.0238486398011446,
          0.018465781584382057,
          0.022489963099360466,
          0.026711756363511086,
          0.02500939927995205,
          0.018050730228424072,
          0.011358289048075676,
          0.010496312752366066,
          0.014344691298902035,
          0.015263577923178673,
          0.010698975063860416,
          0.006618269253522158,
          0.007060283794999123,
          0.009546469897031784,
          0.01007863786071539,
          0.007845990359783173,
          0.0054379659704864025,
          0.005617300979793072,
          0.00745400320738554,
          0.0075240726582705975,
          0.005531371105462313,
          0.0043644411489367485,
          0.005012623034417629,
          0.005715034436434507,
          0.005017258692532778,
          0.0035679012071341276,
          0.003001525066792965,
          0.003480666782706976,
          0.0035191643983125687,
          0.0026054084300994873,
          0.001945749158039689,
          0.002173709450289607,
          0.0024850168265402317,
          0.002154927235096693,
          0.0015937958378344774,
          0.0015573996352031827,
          0.0018765568966045976,
          0.0018147570081055164,
          0.0014214529655873775,
          0.0013177613727748394,
          0.0015055492985993624,
          0.0014839121140539646,
          0.0011942527489736676,
          0.0010594589402899146,
          0.0011716769076883793,
          0.001156344311311841,
          0.0009472505771555007,
          0.0008747789543122053,
          0.0009674694738350809,
          0.0009521939209662378,
          0.000824453542008996,
          0.0008136415854096413,
          0.0008938399842008948,
          0.0008652108954265714,
          0.0007875905721448362,
          0.0008128499030135572,
          0.0008546291501261294,
          0.0008073357166722417,
          0.0007665315642952919,
          0.0007980337250046432,
          0.0008032713085412979,
          0.0007580353994853795,
          0.0007538854260928929,
          0.0007804877241142094,
          0.0007664543809369206,
          0.0007441372727043927,
          0.0007612468325532973,
          0.0007723720045760274,
          0.0007545020198449492,
          0.0007539937505498528,
          0.0007695364183746278,
          0.0007631743210367858,
          0.0007519130012951791,
          0.0007598072988912463,
          0.0007619698299095035,
          0.0007504395907744765,
          0.0007501315558329225,
          0.0007556133205071092,
          0.0007494247402064502,
          0.0007450573029927909,
          0.000750010134652257,
          0.0007490441203117371,
          0.0007441171910613775,
          0.0007465386297553778,
          0.0007481120992451906,
          0.000744081859011203,
          0.0007438486209139228
         ]
        }
       ],
       "layout": {
        "font": {
         "color": "black",
         "family": "Times New Roman",
         "size": 12
        },
        "height": 600,
        "legend": {
         "bgcolor": "rgba(255, 255, 255, 0.5)",
         "bordercolor": "black",
         "borderwidth": 1,
         "font": {
          "color": "black",
          "family": "Times New Roman",
          "size": 12
         },
         "orientation": "h",
         "traceorder": "normal",
         "x": 0.5,
         "xanchor": "center",
         "y": 1.05,
         "yanchor": "bottom"
        },
        "margin": {
         "b": 50,
         "l": 50,
         "r": 50,
         "t": 50
        },
        "paper_bgcolor": "whitesmoke",
        "plot_bgcolor": "whitesmoke",
        "showlegend": true,
        "template": {
         "data": {
          "bar": [
           {
            "error_x": {
             "color": "#2a3f5f"
            },
            "error_y": {
             "color": "#2a3f5f"
            },
            "marker": {
             "line": {
              "color": "#E5ECF6",
              "width": 0.5
             },
             "pattern": {
              "fillmode": "overlay",
              "size": 10,
              "solidity": 0.2
             }
            },
            "type": "bar"
           }
          ],
          "barpolar": [
           {
            "marker": {
             "line": {
              "color": "#E5ECF6",
              "width": 0.5
             },
             "pattern": {
              "fillmode": "overlay",
              "size": 10,
              "solidity": 0.2
             }
            },
            "type": "barpolar"
           }
          ],
          "carpet": [
           {
            "aaxis": {
             "endlinecolor": "#2a3f5f",
             "gridcolor": "white",
             "linecolor": "white",
             "minorgridcolor": "white",
             "startlinecolor": "#2a3f5f"
            },
            "baxis": {
             "endlinecolor": "#2a3f5f",
             "gridcolor": "white",
             "linecolor": "white",
             "minorgridcolor": "white",
             "startlinecolor": "#2a3f5f"
            },
            "type": "carpet"
           }
          ],
          "choropleth": [
           {
            "colorbar": {
             "outlinewidth": 0,
             "ticks": ""
            },
            "type": "choropleth"
           }
          ],
          "contour": [
           {
            "colorbar": {
             "outlinewidth": 0,
             "ticks": ""
            },
            "colorscale": [
             [
              0,
              "#0d0887"
             ],
             [
              0.1111111111111111,
              "#46039f"
             ],
             [
              0.2222222222222222,
              "#7201a8"
             ],
             [
              0.3333333333333333,
              "#9c179e"
             ],
             [
              0.4444444444444444,
              "#bd3786"
             ],
             [
              0.5555555555555556,
              "#d8576b"
             ],
             [
              0.6666666666666666,
              "#ed7953"
             ],
             [
              0.7777777777777778,
              "#fb9f3a"
             ],
             [
              0.8888888888888888,
              "#fdca26"
             ],
             [
              1,
              "#f0f921"
             ]
            ],
            "type": "contour"
           }
          ],
          "contourcarpet": [
           {
            "colorbar": {
             "outlinewidth": 0,
             "ticks": ""
            },
            "type": "contourcarpet"
           }
          ],
          "heatmap": [
           {
            "colorbar": {
             "outlinewidth": 0,
             "ticks": ""
            },
            "colorscale": [
             [
              0,
              "#0d0887"
             ],
             [
              0.1111111111111111,
              "#46039f"
             ],
             [
              0.2222222222222222,
              "#7201a8"
             ],
             [
              0.3333333333333333,
              "#9c179e"
             ],
             [
              0.4444444444444444,
              "#bd3786"
             ],
             [
              0.5555555555555556,
              "#d8576b"
             ],
             [
              0.6666666666666666,
              "#ed7953"
             ],
             [
              0.7777777777777778,
              "#fb9f3a"
             ],
             [
              0.8888888888888888,
              "#fdca26"
             ],
             [
              1,
              "#f0f921"
             ]
            ],
            "type": "heatmap"
           }
          ],
          "heatmapgl": [
           {
            "colorbar": {
             "outlinewidth": 0,
             "ticks": ""
            },
            "colorscale": [
             [
              0,
              "#0d0887"
             ],
             [
              0.1111111111111111,
              "#46039f"
             ],
             [
              0.2222222222222222,
              "#7201a8"
             ],
             [
              0.3333333333333333,
              "#9c179e"
             ],
             [
              0.4444444444444444,
              "#bd3786"
             ],
             [
              0.5555555555555556,
              "#d8576b"
             ],
             [
              0.6666666666666666,
              "#ed7953"
             ],
             [
              0.7777777777777778,
              "#fb9f3a"
             ],
             [
              0.8888888888888888,
              "#fdca26"
             ],
             [
              1,
              "#f0f921"
             ]
            ],
            "type": "heatmapgl"
           }
          ],
          "histogram": [
           {
            "marker": {
             "pattern": {
              "fillmode": "overlay",
              "size": 10,
              "solidity": 0.2
             }
            },
            "type": "histogram"
           }
          ],
          "histogram2d": [
           {
            "colorbar": {
             "outlinewidth": 0,
             "ticks": ""
            },
            "colorscale": [
             [
              0,
              "#0d0887"
             ],
             [
              0.1111111111111111,
              "#46039f"
             ],
             [
              0.2222222222222222,
              "#7201a8"
             ],
             [
              0.3333333333333333,
              "#9c179e"
             ],
             [
              0.4444444444444444,
              "#bd3786"
             ],
             [
              0.5555555555555556,
              "#d8576b"
             ],
             [
              0.6666666666666666,
              "#ed7953"
             ],
             [
              0.7777777777777778,
              "#fb9f3a"
             ],
             [
              0.8888888888888888,
              "#fdca26"
             ],
             [
              1,
              "#f0f921"
             ]
            ],
            "type": "histogram2d"
           }
          ],
          "histogram2dcontour": [
           {
            "colorbar": {
             "outlinewidth": 0,
             "ticks": ""
            },
            "colorscale": [
             [
              0,
              "#0d0887"
             ],
             [
              0.1111111111111111,
              "#46039f"
             ],
             [
              0.2222222222222222,
              "#7201a8"
             ],
             [
              0.3333333333333333,
              "#9c179e"
             ],
             [
              0.4444444444444444,
              "#bd3786"
             ],
             [
              0.5555555555555556,
              "#d8576b"
             ],
             [
              0.6666666666666666,
              "#ed7953"
             ],
             [
              0.7777777777777778,
              "#fb9f3a"
             ],
             [
              0.8888888888888888,
              "#fdca26"
             ],
             [
              1,
              "#f0f921"
             ]
            ],
            "type": "histogram2dcontour"
           }
          ],
          "mesh3d": [
           {
            "colorbar": {
             "outlinewidth": 0,
             "ticks": ""
            },
            "type": "mesh3d"
           }
          ],
          "parcoords": [
           {
            "line": {
             "colorbar": {
              "outlinewidth": 0,
              "ticks": ""
             }
            },
            "type": "parcoords"
           }
          ],
          "pie": [
           {
            "automargin": true,
            "type": "pie"
           }
          ],
          "scatter": [
           {
            "fillpattern": {
             "fillmode": "overlay",
             "size": 10,
             "solidity": 0.2
            },
            "type": "scatter"
           }
          ],
          "scatter3d": [
           {
            "line": {
             "colorbar": {
              "outlinewidth": 0,
              "ticks": ""
             }
            },
            "marker": {
             "colorbar": {
              "outlinewidth": 0,
              "ticks": ""
             }
            },
            "type": "scatter3d"
           }
          ],
          "scattercarpet": [
           {
            "marker": {
             "colorbar": {
              "outlinewidth": 0,
              "ticks": ""
             }
            },
            "type": "scattercarpet"
           }
          ],
          "scattergeo": [
           {
            "marker": {
             "colorbar": {
              "outlinewidth": 0,
              "ticks": ""
             }
            },
            "type": "scattergeo"
           }
          ],
          "scattergl": [
           {
            "marker": {
             "colorbar": {
              "outlinewidth": 0,
              "ticks": ""
             }
            },
            "type": "scattergl"
           }
          ],
          "scattermapbox": [
           {
            "marker": {
             "colorbar": {
              "outlinewidth": 0,
              "ticks": ""
             }
            },
            "type": "scattermapbox"
           }
          ],
          "scatterpolar": [
           {
            "marker": {
             "colorbar": {
              "outlinewidth": 0,
              "ticks": ""
             }
            },
            "type": "scatterpolar"
           }
          ],
          "scatterpolargl": [
           {
            "marker": {
             "colorbar": {
              "outlinewidth": 0,
              "ticks": ""
             }
            },
            "type": "scatterpolargl"
           }
          ],
          "scatterternary": [
           {
            "marker": {
             "colorbar": {
              "outlinewidth": 0,
              "ticks": ""
             }
            },
            "type": "scatterternary"
           }
          ],
          "surface": [
           {
            "colorbar": {
             "outlinewidth": 0,
             "ticks": ""
            },
            "colorscale": [
             [
              0,
              "#0d0887"
             ],
             [
              0.1111111111111111,
              "#46039f"
             ],
             [
              0.2222222222222222,
              "#7201a8"
             ],
             [
              0.3333333333333333,
              "#9c179e"
             ],
             [
              0.4444444444444444,
              "#bd3786"
             ],
             [
              0.5555555555555556,
              "#d8576b"
             ],
             [
              0.6666666666666666,
              "#ed7953"
             ],
             [
              0.7777777777777778,
              "#fb9f3a"
             ],
             [
              0.8888888888888888,
              "#fdca26"
             ],
             [
              1,
              "#f0f921"
             ]
            ],
            "type": "surface"
           }
          ],
          "table": [
           {
            "cells": {
             "fill": {
              "color": "#EBF0F8"
             },
             "line": {
              "color": "white"
             }
            },
            "header": {
             "fill": {
              "color": "#C8D4E3"
             },
             "line": {
              "color": "white"
             }
            },
            "type": "table"
           }
          ]
         },
         "layout": {
          "annotationdefaults": {
           "arrowcolor": "#2a3f5f",
           "arrowhead": 0,
           "arrowwidth": 1
          },
          "autotypenumbers": "strict",
          "coloraxis": {
           "colorbar": {
            "outlinewidth": 0,
            "ticks": ""
           }
          },
          "colorscale": {
           "diverging": [
            [
             0,
             "#8e0152"
            ],
            [
             0.1,
             "#c51b7d"
            ],
            [
             0.2,
             "#de77ae"
            ],
            [
             0.3,
             "#f1b6da"
            ],
            [
             0.4,
             "#fde0ef"
            ],
            [
             0.5,
             "#f7f7f7"
            ],
            [
             0.6,
             "#e6f5d0"
            ],
            [
             0.7,
             "#b8e186"
            ],
            [
             0.8,
             "#7fbc41"
            ],
            [
             0.9,
             "#4d9221"
            ],
            [
             1,
             "#276419"
            ]
           ],
           "sequential": [
            [
             0,
             "#0d0887"
            ],
            [
             0.1111111111111111,
             "#46039f"
            ],
            [
             0.2222222222222222,
             "#7201a8"
            ],
            [
             0.3333333333333333,
             "#9c179e"
            ],
            [
             0.4444444444444444,
             "#bd3786"
            ],
            [
             0.5555555555555556,
             "#d8576b"
            ],
            [
             0.6666666666666666,
             "#ed7953"
            ],
            [
             0.7777777777777778,
             "#fb9f3a"
            ],
            [
             0.8888888888888888,
             "#fdca26"
            ],
            [
             1,
             "#f0f921"
            ]
           ],
           "sequentialminus": [
            [
             0,
             "#0d0887"
            ],
            [
             0.1111111111111111,
             "#46039f"
            ],
            [
             0.2222222222222222,
             "#7201a8"
            ],
            [
             0.3333333333333333,
             "#9c179e"
            ],
            [
             0.4444444444444444,
             "#bd3786"
            ],
            [
             0.5555555555555556,
             "#d8576b"
            ],
            [
             0.6666666666666666,
             "#ed7953"
            ],
            [
             0.7777777777777778,
             "#fb9f3a"
            ],
            [
             0.8888888888888888,
             "#fdca26"
            ],
            [
             1,
             "#f0f921"
            ]
           ]
          },
          "colorway": [
           "#636efa",
           "#EF553B",
           "#00cc96",
           "#ab63fa",
           "#FFA15A",
           "#19d3f3",
           "#FF6692",
           "#B6E880",
           "#FF97FF",
           "#FECB52"
          ],
          "font": {
           "color": "#2a3f5f"
          },
          "geo": {
           "bgcolor": "white",
           "lakecolor": "white",
           "landcolor": "#E5ECF6",
           "showlakes": true,
           "showland": true,
           "subunitcolor": "white"
          },
          "hoverlabel": {
           "align": "left"
          },
          "hovermode": "closest",
          "mapbox": {
           "style": "light"
          },
          "paper_bgcolor": "white",
          "plot_bgcolor": "#E5ECF6",
          "polar": {
           "angularaxis": {
            "gridcolor": "white",
            "linecolor": "white",
            "ticks": ""
           },
           "bgcolor": "#E5ECF6",
           "radialaxis": {
            "gridcolor": "white",
            "linecolor": "white",
            "ticks": ""
           }
          },
          "scene": {
           "xaxis": {
            "backgroundcolor": "#E5ECF6",
            "gridcolor": "white",
            "gridwidth": 2,
            "linecolor": "white",
            "showbackground": true,
            "ticks": "",
            "zerolinecolor": "white"
           },
           "yaxis": {
            "backgroundcolor": "#E5ECF6",
            "gridcolor": "white",
            "gridwidth": 2,
            "linecolor": "white",
            "showbackground": true,
            "ticks": "",
            "zerolinecolor": "white"
           },
           "zaxis": {
            "backgroundcolor": "#E5ECF6",
            "gridcolor": "white",
            "gridwidth": 2,
            "linecolor": "white",
            "showbackground": true,
            "ticks": "",
            "zerolinecolor": "white"
           }
          },
          "shapedefaults": {
           "line": {
            "color": "#2a3f5f"
           }
          },
          "ternary": {
           "aaxis": {
            "gridcolor": "white",
            "linecolor": "white",
            "ticks": ""
           },
           "baxis": {
            "gridcolor": "white",
            "linecolor": "white",
            "ticks": ""
           },
           "bgcolor": "#E5ECF6",
           "caxis": {
            "gridcolor": "white",
            "linecolor": "white",
            "ticks": ""
           }
          },
          "title": {
           "x": 0.05
          },
          "xaxis": {
           "automargin": true,
           "gridcolor": "white",
           "linecolor": "white",
           "ticks": "",
           "title": {
            "standoff": 15
           },
           "zerolinecolor": "white",
           "zerolinewidth": 2
          },
          "yaxis": {
           "automargin": true,
           "gridcolor": "white",
           "linecolor": "white",
           "ticks": "",
           "title": {
            "standoff": 15
           },
           "zerolinecolor": "white",
           "zerolinewidth": 2
          }
         }
        },
        "title": {
         "font": {
          "color": "black",
          "family": "Times New Roman",
          "size": 20
         },
         "text": "GBDT-Prediction: Training Loss Curve"
        },
        "width": 1200,
        "xaxis": {
         "gridcolor": "lightgray",
         "linecolor": "gray",
         "showgrid": true,
         "showline": true,
         "title": {
          "font": {
           "color": "black",
           "family": "Times New Roman",
           "size": 14
          },
          "text": "Epoch"
         },
         "zeroline": false
        },
        "yaxis": {
         "gridcolor": "lightgray",
         "linecolor": "gray",
         "showgrid": true,
         "showline": true,
         "title": {
          "font": {
           "color": "black",
           "family": "Times New Roman",
           "size": 14
          },
          "text": "Loss"
         },
         "zeroline": false
        }
       }
      }
     },
     "metadata": {},
     "output_type": "display_data"
    },
    {
     "data": {
      "application/vnd.plotly.v1+json": {
       "config": {
        "plotlyServerURL": "https://plot.ly"
       },
       "data": [
        {
         "line": {
          "color": "mediumseagreen",
          "shape": "spline",
          "width": 3
         },
         "marker": {
          "color": "white",
          "line": {
           "color": "mediumseagreen",
           "width": 2
          },
          "size": 8,
          "symbol": "circle"
         },
         "mode": "lines+markers",
         "name": "Actual",
         "type": "scatter",
         "x": [
          0,
          1,
          2,
          3,
          4,
          5,
          6,
          7,
          8,
          9,
          10,
          11,
          12,
          13,
          14,
          15,
          16,
          17,
          18,
          19,
          20,
          21,
          22,
          23,
          24,
          25,
          26,
          27,
          28,
          29,
          30,
          31,
          32,
          33,
          34,
          35,
          36,
          37,
          38,
          39,
          40,
          41,
          42,
          43,
          44,
          45,
          46,
          47,
          48,
          49,
          50,
          51,
          52,
          53,
          54,
          55,
          56,
          57,
          58,
          59,
          60,
          61,
          62,
          63,
          64,
          65,
          66,
          67,
          68,
          69,
          70,
          71,
          72,
          73,
          74,
          75,
          76,
          77,
          78,
          79,
          80,
          81,
          82,
          83,
          84,
          85,
          86,
          87,
          88,
          89,
          90,
          91,
          92,
          93,
          94,
          95,
          96,
          97,
          98,
          99
         ],
         "y": [
          3214.2770173344443,
          1412.777246425714,
          2102.156701646015,
          1387.5136613889,
          2555.820316485829,
          2055.031788753883,
          2290.9678711874535,
          2100.698284353723,
          2753.2776834656142,
          2764.9042844055425,
          2815.137280871834,
          727.192261250795,
          2494.951582082199,
          847.4664085344727,
          1767.998683087063,
          3033.519121265367,
          1642.3427195245022,
          3174.8714635208,
          1414.1112765678117,
          1031.4829129820864,
          1787.074266366505,
          1153.3397804692847,
          26.457324418340104,
          2520.7004318571903,
          2168.3771344338566,
          1964.7544153882154,
          2595.250849159878,
          1696.9712975416178,
          3031.5540428414756,
          2152.326229117217,
          391.6619206934302,
          2243.4164069214157,
          2970.511608192821,
          1785.4291900650683,
          3278.3118013968433,
          3276.6841029794864,
          3259.7173693003947,
          2325.4064163447674,
          1867.982636858867,
          504.7307899612581,
          2748.1268299004814,
          1125.149518067129,
          1482.5857521396022,
          1438.383717588924,
          808.7675014793164,
          2726.1631563587684,
          2634.376157433367,
          2516.438614518627,
          3101.0560458553737,
          774.8247118247855,
          2265.5069556233716,
          1563.4592574235282,
          773.622100111524,
          1359.4042082092517,
          1312.0740181449746,
          2693.3347589562686,
          2967.338067373809,
          2747.731971817695,
          826.0349162312192,
          2308.6907100158915,
          1962.9805005033088,
          925.4661973061299,
          1323.5023335887454,
          1997.1148871372336,
          1303.368093790762,
          1348.1831553293728,
          2748.7953139088468,
          2013.9227702785456,
          3433.1623778903804,
          1759.0662309339637,
          2845.726314510398,
          929.1465916721176,
          2340.5297116610463,
          2508.540642289586,
          1595.8745565094391,
          1539.156665606915,
          1543.9472394812722,
          2999.7434189832716,
          2421.8337662216186,
          2950.516048564558,
          2211.9026008154715,
          1160.273248979605,
          2629.1173009954477,
          387.2115972771227,
          736.4087123362386,
          1313.3380099371198,
          453.5517342862637,
          1746.954854250393,
          2878.2825448406,
          3360.61048783331,
          2178.337449204726,
          2178.611844986819,
          1510.525934455962,
          1606.087350955484,
          324.86654280209535,
          2307.2010501704976,
          3237.6053742936715,
          3032.480047314145,
          566.2040857505432,
          2378.5950142398865
         ]
        },
        {
         "line": {
          "color": "indianred",
          "dash": "dot",
          "width": 3
         },
         "marker": {
          "color": "white",
          "line": {
           "color": "indianred",
           "width": 2
          },
          "size": 8,
          "symbol": "x"
         },
         "mode": "lines+markers",
         "name": "Predicted",
         "type": "scatter",
         "x": [
          0,
          1,
          2,
          3,
          4,
          5,
          6,
          7,
          8,
          9,
          10,
          11,
          12,
          13,
          14,
          15,
          16,
          17,
          18,
          19,
          20,
          21,
          22,
          23,
          24,
          25,
          26,
          27,
          28,
          29,
          30,
          31,
          32,
          33,
          34,
          35,
          36,
          37,
          38,
          39,
          40,
          41,
          42,
          43,
          44,
          45,
          46,
          47,
          48,
          49,
          50,
          51,
          52,
          53,
          54,
          55,
          56,
          57,
          58,
          59,
          60,
          61,
          62,
          63,
          64,
          65,
          66,
          67,
          68,
          69,
          70,
          71,
          72,
          73,
          74,
          75,
          76,
          77,
          78,
          79,
          80,
          81,
          82,
          83,
          84,
          85,
          86,
          87,
          88,
          89,
          90,
          91,
          92,
          93,
          94,
          95,
          96,
          97,
          98,
          99
         ],
         "y": [
          3268.290771484375,
          1425.6981201171875,
          2124.552490234375,
          1429.8177490234375,
          2608.311279296875,
          2240.453857421875,
          2354.2900390625,
          2002.3597412109375,
          2755.875,
          2618.980712890625,
          2760.3779296875,
          462.87890625,
          2487.241455078125,
          895.6454467773438,
          1773.1746826171875,
          3185.98193359375,
          1746.9720458984375,
          3082.92529296875,
          1531.5245361328125,
          1002.440185546875,
          1927.294189453125,
          1099.60400390625,
          251.02566528320312,
          2518.554931640625,
          2168.5791015625,
          2059.090576171875,
          2811.667236328125,
          1655.4886474609375,
          3103.47900390625,
          2221.085693359375,
          435.0718078613281,
          2423.453369140625,
          2994.36279296875,
          1753.3773193359375,
          3318.74951171875,
          3270.750244140625,
          3381.5498046875,
          2387.320068359375,
          1775.26513671875,
          537.9055786132812,
          2825.739013671875,
          1251.6402587890625,
          1503.1934814453125,
          1452.1058349609375,
          829.9454956054688,
          2808.296875,
          2595.060791015625,
          2494.371826171875,
          3207.16552734375,
          556.7432861328125,
          2466.007080078125,
          1571.444091796875,
          720.4144287109375,
          1385.083251953125,
          1333.0767822265625,
          2662.888427734375,
          2871.5390625,
          2742.385986328125,
          786.58349609375,
          2138.365966796875,
          2079.946533203125,
          831.6660766601562,
          1415.9208984375,
          2074.867431640625,
          1331.2225341796875,
          1508.7073974609375,
          2777.90478515625,
          2012.2041015625,
          3182.134033203125,
          1564.24462890625,
          2955.9130859375,
          903.2388916015625,
          2327.431884765625,
          2471.371826171875,
          1629.381103515625,
          1457.96484375,
          1551.6904296875,
          2834.206298828125,
          2408.36572265625,
          2797.34814453125,
          2119.904052734375,
          1134.1676025390625,
          2671.018798828125,
          534.1535034179688,
          542.633544921875,
          1377.554443359375,
          493.4939880371094,
          1771.001953125,
          2745.429443359375,
          3416.04443359375,
          2090.750244140625,
          2096.380615234375,
          1606.477294921875,
          1362.565673828125,
          282.56689453125,
          2088.802978515625,
          3017.275634765625,
          3091.90283203125,
          528.3096313476562,
          2390.104248046875
         ]
        }
       ],
       "layout": {
        "font": {
         "color": "black",
         "family": "Times New Roman",
         "size": 12
        },
        "height": 600,
        "legend": {
         "bgcolor": "rgba(255, 255, 255, 0.5)",
         "bordercolor": "black",
         "borderwidth": 1,
         "font": {
          "color": "black",
          "family": "Times New Roman",
          "size": 12
         },
         "orientation": "h",
         "traceorder": "normal",
         "x": 0.5,
         "xanchor": "center",
         "y": 1.05,
         "yanchor": "bottom"
        },
        "paper_bgcolor": "rgba(240, 240, 240, 0.9)",
        "plot_bgcolor": "rgba(255, 255, 255, 0.9)",
        "showlegend": true,
        "template": {
         "data": {
          "bar": [
           {
            "error_x": {
             "color": "#2a3f5f"
            },
            "error_y": {
             "color": "#2a3f5f"
            },
            "marker": {
             "line": {
              "color": "#E5ECF6",
              "width": 0.5
             },
             "pattern": {
              "fillmode": "overlay",
              "size": 10,
              "solidity": 0.2
             }
            },
            "type": "bar"
           }
          ],
          "barpolar": [
           {
            "marker": {
             "line": {
              "color": "#E5ECF6",
              "width": 0.5
             },
             "pattern": {
              "fillmode": "overlay",
              "size": 10,
              "solidity": 0.2
             }
            },
            "type": "barpolar"
           }
          ],
          "carpet": [
           {
            "aaxis": {
             "endlinecolor": "#2a3f5f",
             "gridcolor": "white",
             "linecolor": "white",
             "minorgridcolor": "white",
             "startlinecolor": "#2a3f5f"
            },
            "baxis": {
             "endlinecolor": "#2a3f5f",
             "gridcolor": "white",
             "linecolor": "white",
             "minorgridcolor": "white",
             "startlinecolor": "#2a3f5f"
            },
            "type": "carpet"
           }
          ],
          "choropleth": [
           {
            "colorbar": {
             "outlinewidth": 0,
             "ticks": ""
            },
            "type": "choropleth"
           }
          ],
          "contour": [
           {
            "colorbar": {
             "outlinewidth": 0,
             "ticks": ""
            },
            "colorscale": [
             [
              0,
              "#0d0887"
             ],
             [
              0.1111111111111111,
              "#46039f"
             ],
             [
              0.2222222222222222,
              "#7201a8"
             ],
             [
              0.3333333333333333,
              "#9c179e"
             ],
             [
              0.4444444444444444,
              "#bd3786"
             ],
             [
              0.5555555555555556,
              "#d8576b"
             ],
             [
              0.6666666666666666,
              "#ed7953"
             ],
             [
              0.7777777777777778,
              "#fb9f3a"
             ],
             [
              0.8888888888888888,
              "#fdca26"
             ],
             [
              1,
              "#f0f921"
             ]
            ],
            "type": "contour"
           }
          ],
          "contourcarpet": [
           {
            "colorbar": {
             "outlinewidth": 0,
             "ticks": ""
            },
            "type": "contourcarpet"
           }
          ],
          "heatmap": [
           {
            "colorbar": {
             "outlinewidth": 0,
             "ticks": ""
            },
            "colorscale": [
             [
              0,
              "#0d0887"
             ],
             [
              0.1111111111111111,
              "#46039f"
             ],
             [
              0.2222222222222222,
              "#7201a8"
             ],
             [
              0.3333333333333333,
              "#9c179e"
             ],
             [
              0.4444444444444444,
              "#bd3786"
             ],
             [
              0.5555555555555556,
              "#d8576b"
             ],
             [
              0.6666666666666666,
              "#ed7953"
             ],
             [
              0.7777777777777778,
              "#fb9f3a"
             ],
             [
              0.8888888888888888,
              "#fdca26"
             ],
             [
              1,
              "#f0f921"
             ]
            ],
            "type": "heatmap"
           }
          ],
          "heatmapgl": [
           {
            "colorbar": {
             "outlinewidth": 0,
             "ticks": ""
            },
            "colorscale": [
             [
              0,
              "#0d0887"
             ],
             [
              0.1111111111111111,
              "#46039f"
             ],
             [
              0.2222222222222222,
              "#7201a8"
             ],
             [
              0.3333333333333333,
              "#9c179e"
             ],
             [
              0.4444444444444444,
              "#bd3786"
             ],
             [
              0.5555555555555556,
              "#d8576b"
             ],
             [
              0.6666666666666666,
              "#ed7953"
             ],
             [
              0.7777777777777778,
              "#fb9f3a"
             ],
             [
              0.8888888888888888,
              "#fdca26"
             ],
             [
              1,
              "#f0f921"
             ]
            ],
            "type": "heatmapgl"
           }
          ],
          "histogram": [
           {
            "marker": {
             "pattern": {
              "fillmode": "overlay",
              "size": 10,
              "solidity": 0.2
             }
            },
            "type": "histogram"
           }
          ],
          "histogram2d": [
           {
            "colorbar": {
             "outlinewidth": 0,
             "ticks": ""
            },
            "colorscale": [
             [
              0,
              "#0d0887"
             ],
             [
              0.1111111111111111,
              "#46039f"
             ],
             [
              0.2222222222222222,
              "#7201a8"
             ],
             [
              0.3333333333333333,
              "#9c179e"
             ],
             [
              0.4444444444444444,
              "#bd3786"
             ],
             [
              0.5555555555555556,
              "#d8576b"
             ],
             [
              0.6666666666666666,
              "#ed7953"
             ],
             [
              0.7777777777777778,
              "#fb9f3a"
             ],
             [
              0.8888888888888888,
              "#fdca26"
             ],
             [
              1,
              "#f0f921"
             ]
            ],
            "type": "histogram2d"
           }
          ],
          "histogram2dcontour": [
           {
            "colorbar": {
             "outlinewidth": 0,
             "ticks": ""
            },
            "colorscale": [
             [
              0,
              "#0d0887"
             ],
             [
              0.1111111111111111,
              "#46039f"
             ],
             [
              0.2222222222222222,
              "#7201a8"
             ],
             [
              0.3333333333333333,
              "#9c179e"
             ],
             [
              0.4444444444444444,
              "#bd3786"
             ],
             [
              0.5555555555555556,
              "#d8576b"
             ],
             [
              0.6666666666666666,
              "#ed7953"
             ],
             [
              0.7777777777777778,
              "#fb9f3a"
             ],
             [
              0.8888888888888888,
              "#fdca26"
             ],
             [
              1,
              "#f0f921"
             ]
            ],
            "type": "histogram2dcontour"
           }
          ],
          "mesh3d": [
           {
            "colorbar": {
             "outlinewidth": 0,
             "ticks": ""
            },
            "type": "mesh3d"
           }
          ],
          "parcoords": [
           {
            "line": {
             "colorbar": {
              "outlinewidth": 0,
              "ticks": ""
             }
            },
            "type": "parcoords"
           }
          ],
          "pie": [
           {
            "automargin": true,
            "type": "pie"
           }
          ],
          "scatter": [
           {
            "fillpattern": {
             "fillmode": "overlay",
             "size": 10,
             "solidity": 0.2
            },
            "type": "scatter"
           }
          ],
          "scatter3d": [
           {
            "line": {
             "colorbar": {
              "outlinewidth": 0,
              "ticks": ""
             }
            },
            "marker": {
             "colorbar": {
              "outlinewidth": 0,
              "ticks": ""
             }
            },
            "type": "scatter3d"
           }
          ],
          "scattercarpet": [
           {
            "marker": {
             "colorbar": {
              "outlinewidth": 0,
              "ticks": ""
             }
            },
            "type": "scattercarpet"
           }
          ],
          "scattergeo": [
           {
            "marker": {
             "colorbar": {
              "outlinewidth": 0,
              "ticks": ""
             }
            },
            "type": "scattergeo"
           }
          ],
          "scattergl": [
           {
            "marker": {
             "colorbar": {
              "outlinewidth": 0,
              "ticks": ""
             }
            },
            "type": "scattergl"
           }
          ],
          "scattermapbox": [
           {
            "marker": {
             "colorbar": {
              "outlinewidth": 0,
              "ticks": ""
             }
            },
            "type": "scattermapbox"
           }
          ],
          "scatterpolar": [
           {
            "marker": {
             "colorbar": {
              "outlinewidth": 0,
              "ticks": ""
             }
            },
            "type": "scatterpolar"
           }
          ],
          "scatterpolargl": [
           {
            "marker": {
             "colorbar": {
              "outlinewidth": 0,
              "ticks": ""
             }
            },
            "type": "scatterpolargl"
           }
          ],
          "scatterternary": [
           {
            "marker": {
             "colorbar": {
              "outlinewidth": 0,
              "ticks": ""
             }
            },
            "type": "scatterternary"
           }
          ],
          "surface": [
           {
            "colorbar": {
             "outlinewidth": 0,
             "ticks": ""
            },
            "colorscale": [
             [
              0,
              "#0d0887"
             ],
             [
              0.1111111111111111,
              "#46039f"
             ],
             [
              0.2222222222222222,
              "#7201a8"
             ],
             [
              0.3333333333333333,
              "#9c179e"
             ],
             [
              0.4444444444444444,
              "#bd3786"
             ],
             [
              0.5555555555555556,
              "#d8576b"
             ],
             [
              0.6666666666666666,
              "#ed7953"
             ],
             [
              0.7777777777777778,
              "#fb9f3a"
             ],
             [
              0.8888888888888888,
              "#fdca26"
             ],
             [
              1,
              "#f0f921"
             ]
            ],
            "type": "surface"
           }
          ],
          "table": [
           {
            "cells": {
             "fill": {
              "color": "#EBF0F8"
             },
             "line": {
              "color": "white"
             }
            },
            "header": {
             "fill": {
              "color": "#C8D4E3"
             },
             "line": {
              "color": "white"
             }
            },
            "type": "table"
           }
          ]
         },
         "layout": {
          "annotationdefaults": {
           "arrowcolor": "#2a3f5f",
           "arrowhead": 0,
           "arrowwidth": 1
          },
          "autotypenumbers": "strict",
          "coloraxis": {
           "colorbar": {
            "outlinewidth": 0,
            "ticks": ""
           }
          },
          "colorscale": {
           "diverging": [
            [
             0,
             "#8e0152"
            ],
            [
             0.1,
             "#c51b7d"
            ],
            [
             0.2,
             "#de77ae"
            ],
            [
             0.3,
             "#f1b6da"
            ],
            [
             0.4,
             "#fde0ef"
            ],
            [
             0.5,
             "#f7f7f7"
            ],
            [
             0.6,
             "#e6f5d0"
            ],
            [
             0.7,
             "#b8e186"
            ],
            [
             0.8,
             "#7fbc41"
            ],
            [
             0.9,
             "#4d9221"
            ],
            [
             1,
             "#276419"
            ]
           ],
           "sequential": [
            [
             0,
             "#0d0887"
            ],
            [
             0.1111111111111111,
             "#46039f"
            ],
            [
             0.2222222222222222,
             "#7201a8"
            ],
            [
             0.3333333333333333,
             "#9c179e"
            ],
            [
             0.4444444444444444,
             "#bd3786"
            ],
            [
             0.5555555555555556,
             "#d8576b"
            ],
            [
             0.6666666666666666,
             "#ed7953"
            ],
            [
             0.7777777777777778,
             "#fb9f3a"
            ],
            [
             0.8888888888888888,
             "#fdca26"
            ],
            [
             1,
             "#f0f921"
            ]
           ],
           "sequentialminus": [
            [
             0,
             "#0d0887"
            ],
            [
             0.1111111111111111,
             "#46039f"
            ],
            [
             0.2222222222222222,
             "#7201a8"
            ],
            [
             0.3333333333333333,
             "#9c179e"
            ],
            [
             0.4444444444444444,
             "#bd3786"
            ],
            [
             0.5555555555555556,
             "#d8576b"
            ],
            [
             0.6666666666666666,
             "#ed7953"
            ],
            [
             0.7777777777777778,
             "#fb9f3a"
            ],
            [
             0.8888888888888888,
             "#fdca26"
            ],
            [
             1,
             "#f0f921"
            ]
           ]
          },
          "colorway": [
           "#636efa",
           "#EF553B",
           "#00cc96",
           "#ab63fa",
           "#FFA15A",
           "#19d3f3",
           "#FF6692",
           "#B6E880",
           "#FF97FF",
           "#FECB52"
          ],
          "font": {
           "color": "#2a3f5f"
          },
          "geo": {
           "bgcolor": "white",
           "lakecolor": "white",
           "landcolor": "#E5ECF6",
           "showlakes": true,
           "showland": true,
           "subunitcolor": "white"
          },
          "hoverlabel": {
           "align": "left"
          },
          "hovermode": "closest",
          "mapbox": {
           "style": "light"
          },
          "paper_bgcolor": "white",
          "plot_bgcolor": "#E5ECF6",
          "polar": {
           "angularaxis": {
            "gridcolor": "white",
            "linecolor": "white",
            "ticks": ""
           },
           "bgcolor": "#E5ECF6",
           "radialaxis": {
            "gridcolor": "white",
            "linecolor": "white",
            "ticks": ""
           }
          },
          "scene": {
           "xaxis": {
            "backgroundcolor": "#E5ECF6",
            "gridcolor": "white",
            "gridwidth": 2,
            "linecolor": "white",
            "showbackground": true,
            "ticks": "",
            "zerolinecolor": "white"
           },
           "yaxis": {
            "backgroundcolor": "#E5ECF6",
            "gridcolor": "white",
            "gridwidth": 2,
            "linecolor": "white",
            "showbackground": true,
            "ticks": "",
            "zerolinecolor": "white"
           },
           "zaxis": {
            "backgroundcolor": "#E5ECF6",
            "gridcolor": "white",
            "gridwidth": 2,
            "linecolor": "white",
            "showbackground": true,
            "ticks": "",
            "zerolinecolor": "white"
           }
          },
          "shapedefaults": {
           "line": {
            "color": "#2a3f5f"
           }
          },
          "ternary": {
           "aaxis": {
            "gridcolor": "white",
            "linecolor": "white",
            "ticks": ""
           },
           "baxis": {
            "gridcolor": "white",
            "linecolor": "white",
            "ticks": ""
           },
           "bgcolor": "#E5ECF6",
           "caxis": {
            "gridcolor": "white",
            "linecolor": "white",
            "ticks": ""
           }
          },
          "title": {
           "x": 0.05
          },
          "xaxis": {
           "automargin": true,
           "gridcolor": "white",
           "linecolor": "white",
           "ticks": "",
           "title": {
            "standoff": 15
           },
           "zerolinecolor": "white",
           "zerolinewidth": 2
          },
          "yaxis": {
           "automargin": true,
           "gridcolor": "white",
           "linecolor": "white",
           "ticks": "",
           "title": {
            "standoff": 15
           },
           "zerolinecolor": "white",
           "zerolinewidth": 2
          }
         }
        },
        "title": {
         "font": {
          "color": "black",
          "family": "Times New Roman",
          "size": 20
         },
         "text": "GBDT-Prediction: Actual vs Predicted"
        },
        "width": 1200,
        "xaxis": {
         "gridcolor": "lightgray",
         "title": {
          "font": {
           "color": "black",
           "family": "Times New Roman",
           "size": 14
          },
          "text": "Time Step"
         }
        },
        "yaxis": {
         "gridcolor": "lightgray",
         "title": {
          "font": {
           "color": "black",
           "family": "Times New Roman",
           "size": 14
          },
          "text": "Load"
         }
        }
       }
      }
     },
     "metadata": {},
     "output_type": "display_data"
    }
   ],
   "source": [
    "import plotly.graph_objs as go\n",
    "import plotly.offline as pyo\n",
    "\n",
    "# 1. 训练损失的交互式可视化\n",
    "train_loss_fig = go.Figure()\n",
    "\n",
    "# 添加训练损失曲线\n",
    "train_loss_fig.add_trace(go.Scatter(\n",
    "    x=list(range(1, num_epochs + 1)),  # 横坐标是训练的轮数\n",
    "    y=train_losses,  # 纵坐标是训练损失\n",
    "    mode='lines',  # 线形显示\n",
    "    name='Training Loss',  # 曲线的标签\n",
    "    line=dict(color='royalblue', width=3, dash='dash')  # 设置颜色、宽度和虚线样式\n",
    "))\n",
    "\n",
    "# 更新图表的布局\n",
    "train_loss_fig.update_layout(\n",
    "    title='GBDT-Prediction: Training Loss Curve',  # 图表标题\n",
    "    title_font=dict(size=20, family='Times New Roman', color='black'),  # 设置标题字体\n",
    "    xaxis=dict(title='Epoch', title_font=dict(size=14, family='Times New Roman', color='black'), gridcolor='lightgray'),  # X轴标签\n",
    "    yaxis=dict(title='Loss', title_font=dict(size=14, family='Times New Roman', color='black'), gridcolor='lightgray'),  # Y轴标签\n",
    "    plot_bgcolor='whitesmoke',  # 设置图表背景色\n",
    "    paper_bgcolor='whitesmoke',  # 设置图表外部背景色\n",
    "    font=dict(family='Times New Roman', size=12, color='black'),  # 字体设置\n",
    "    legend=dict(\n",
    "        x=0.5, y=1.05,  # 设置图例位置\n",
    "        xanchor='center',  # 图例水平居中\n",
    "        yanchor='bottom',  # 图例垂直居上\n",
    "        traceorder='normal',  # 图例顺序\n",
    "        orientation='h',  # 图例显示为水平排列(即一行多列)\n",
    "        font=dict(family='Times New Roman', size=12, color='black'),\n",
    "        bgcolor='rgba(255, 255, 255, 0.5)',  # 图例背景颜色\n",
    "        bordercolor='black', borderwidth=1  # 图例边框颜色和宽度\n",
    "    ),\n",
    "    showlegend=True,  # 显示图例\n",
    "    width=1200,  # 设置图表宽度\n",
    "    height=600  # 设置图表高度\n",
    ")\n",
    "\n",
    "# 设置图表边缘的阴影效果\n",
    "train_loss_fig.update_layout(\n",
    "    xaxis=dict(showgrid=True, zeroline=False, showline=True, linecolor='gray'),  # X轴样式\n",
    "    yaxis=dict(showgrid=True, zeroline=False, showline=True, linecolor='gray'),  # Y轴样式\n",
    "    margin=dict(l=50, r=50, t=50, b=50)  # 设置图表的边距\n",
    ")\n",
    "\n",
    "# 显示训练损失曲线\n",
    "train_loss_fig.show()\n",
    "\n",
    "# 2. 预测与实际结果的交互式可视化\n",
    "# 创建实际结果的曲线\n",
    "timestep = 100\n",
    "actual_trace = go.Scatter(\n",
    "    x=list(range(timestep)),  # 横坐标是时间步\n",
    "    y=y_test_original[:timestep].flatten(),  # 纵坐标是实际测试数据(前100个数据点)\n",
    "    mode='lines+markers',  # 线条和数据点显示\n",
    "    name='Actual',  # 曲线名称\n",
    "    line=dict(color='mediumseagreen', width=3, shape='spline'),  # 设置颜色、宽度和曲线类型\n",
    "    marker=dict(symbol='circle', size=8, color='white', line=dict(color='mediumseagreen', width=2))  # 数据点样式(空心)\n",
    ")\n",
    "\n",
    "# 创建预测结果的曲线\n",
    "predicted_trace = go.Scatter(\n",
    "    x=list(range(timestep)),  # 横坐标是时间步\n",
    "    y=predictions[:timestep].flatten(),  # 纵坐标是模型的预测数据(前100个数据点)\n",
    "    mode='lines+markers',  # 线条和数据点显示\n",
    "    name='Predicted',  # 曲线名称\n",
    "    line=dict(color='indianred', width=3, dash='dot'),  # 设置颜色、宽度和虚线样式\n",
    "    marker=dict(symbol='x', size=8, color='white', line=dict(color='indianred', width=2))  # 数据点样式(空心)\n",
    ")\n",
    "\n",
    "# 创建包含实际和预测数据的图表\n",
    "comparison_fig = go.Figure(data=[actual_trace, predicted_trace])\n",
    "\n",
    "# 更新布局设置\n",
    "comparison_fig.update_layout(\n",
    "    title='GBDT-Prediction: Actual vs Predicted',  # 图表标题\n",
    "    title_font=dict(size=20, family='Times New Roman', color='black'),  # 标题字体\n",
    "    xaxis=dict(title='Time Step', title_font=dict(size=14, family='Times New Roman', color='black'), gridcolor='lightgray'),  # X轴标签\n",
    "    yaxis=dict(title='Load', title_font=dict(size=14, family='Times New Roman', color='black'), gridcolor='lightgray'),  # Y轴标签\n",
    "    plot_bgcolor='whitesmoke',  # 图表背景颜色\n",
    "    paper_bgcolor='whitesmoke',  # 外部背景颜色\n",
    "    font=dict(family='Times New Roman', size=12, color='black'),  # 字体设置\n",
    "    legend=dict(\n",
    "        x=0.5, y=1.05,  # 设置图例位置\n",
    "        xanchor='center',  # 图例水平居中\n",
    "        yanchor='bottom',  # 图例垂直居上\n",
    "        traceorder='normal',  # 图例顺序\n",
    "        orientation='h',  # 图例显示为水平排列(即一行多列)\n",
    "        font=dict(family='Times New Roman', size=12, color='black'),\n",
    "        bgcolor='rgba(255, 255, 255, 0.5)',  # 图例背景颜色\n",
    "        bordercolor='black', borderwidth=1  # 图例边框颜色和宽度\n",
    "    ),\n",
    "    showlegend=True,  # 显示图例\n",
    "    width=1200,  # 设置图表宽度\n",
    "    height=600  # 设置图表高度\n",
    ")\n",
    "\n",
    "# 为图表添加渐变背景色\n",
    "comparison_fig.update_layout(\n",
    "    paper_bgcolor='rgba(240, 240, 240, 0.9)',  # 外部背景渐变色\n",
    "    plot_bgcolor='rgba(255, 255, 255, 0.9)',  # 图表区域背景渐变色\n",
    ")\n",
    "\n",
    "# 显示预测与实际结果的图表\n",
    "comparison_fig.show()"
   ]
  }
 ],
 "metadata": {
  "kernelspec": {
   "display_name": "pytorch",
   "language": "python",
   "name": "python3"
  },
  "language_info": {
   "codemirror_mode": {
    "name": "ipython",
    "version": 3
   },
   "file_extension": ".py",
   "mimetype": "text/x-python",
   "name": "python",
   "nbconvert_exporter": "python",
   "pygments_lexer": "ipython3",
   "version": "3.8.20"
  }
 },
 "nbformat": 4,
 "nbformat_minor": 2
}
