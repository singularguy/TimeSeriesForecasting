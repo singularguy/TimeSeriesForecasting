{
 "cells": [
  {
   "cell_type": "code",
   "execution_count": 11,
   "metadata": {},
   "outputs": [
    {
     "name": "stdout",
     "output_type": "stream",
     "text": [
      "dict_keys(['time', 'generation biomass', 'generation fossil brown coal/lignite', 'generation fossil coal-derived gas', 'generation fossil gas', 'generation fossil hard coal', 'generation fossil oil', 'generation fossil oil shale', 'generation fossil peat', 'generation geothermal', 'generation hydro pumped storage aggregated', 'generation hydro pumped storage consumption', 'generation hydro run-of-river and poundage', 'generation hydro water reservoir', 'generation marine', 'generation nuclear', 'generation other', 'generation other renewable', 'generation solar', 'generation waste', 'generation wind offshore', 'generation wind onshore', 'forecast solar day ahead', 'forecast wind offshore eday ahead', 'forecast wind onshore day ahead', 'total load forecast', 'total load actual', 'price day ahead', 'price actual'])\n"
     ]
    }
   ],
   "source": [
    "# 读取指定csv文件中的数据 第一行是标题\n",
    "import pandas as pd\n",
    "\n",
    "data = pd.read_csv('energy_dataset.csv')\n",
    "\n",
    "# 将每列的数据 列名作为key 整列数据作为list 作为value存入字典\n",
    "data_dict = {}\n",
    "for col in data.columns:\n",
    "    data_dict[col] = data[col].tolist()\n",
    "\n",
    "print(data_dict.keys())\n",
    "\n",
    "# 将time和total load actual作为 新的csv文件存起来\n",
    "new_data = pd.DataFrame(data_dict, columns=['time', 'total load actual'])\n",
    "new_data.to_csv('total_load_actual.csv', index=False)\n"
   ]
  },
  {
   "cell_type": "code",
   "execution_count": 12,
   "metadata": {},
   "outputs": [
    {
     "name": "stdout",
     "output_type": "stream",
     "text": [
      "35040\n",
      "23\n",
      "35040\n",
      "27070.0\n"
     ]
    }
   ],
   "source": [
    "import pandas as pd\n",
    "import numpy as np\n",
    "\n",
    "data = pd.read_csv('total_load_actual.csv')\n",
    "\n",
    "# 将每列的数据 列名作为key 整列数据作为list 作为value存入字典\n",
    "data_dict = {}\n",
    "for col in data.columns:\n",
    "    data_dict[col] = data[col].tolist()\n",
    "    \n",
    "total_acual_load_list = data_dict['total load actual']\n",
    "# print(len(total_acual_load_list))\n",
    "\n",
    "seq_length = 24     # 每个样本的时间序列长度(假设每个样本是一个24小时的时间序列)\n",
    "num_samples = len(total_acual_load_list) - seq_length  # 样本数量(总数据长度减去时间序列长度)\n",
    "\n",
    "# 初始化输入和输出数据\n",
    "x_processed = []\n",
    "y_processed = []\n",
    "N_interval = 8\n",
    "'''\n",
    "N_interval*0 ~ N_interval*1 + 22 =X; 0+N_interval*1 + 1 = y; i = 0\n",
    "N_interval*1 ~ N_interval*2 + 22 =X; 0+N_interval*2 + 1 = y; i = 1\n",
    "N_interval*2 ~ N_interval*3 + 22 =X; 0+N_interval*3 + 1 = y; i = 2\n",
    "...\n",
    "N_interval*num_samples-1 ~ N_interval*num_samples + 22 =X; 0+N_interval*num_samples + 1 = y; i = num_samples-1\n",
    "'''\n",
    "for i in range(num_samples):\n",
    "    x_processed.append(total_acual_load_list[i:i+seq_length-1])\n",
    "    y_processed.append(total_acual_load_list[i+seq_length])\n",
    "    \n",
    "print(len(x_processed)) # 35040\n",
    "print(len(x_processed[0])) # 23\n",
    "print(len(y_processed)) # 35040\n",
    "print(y_processed[0]) # 27070.0\n",
    "\n"
   ]
  }
 ],
 "metadata": {
  "kernelspec": {
   "display_name": "pytorch",
   "language": "python",
   "name": "python3"
  },
  "language_info": {
   "codemirror_mode": {
    "name": "ipython",
    "version": 3
   },
   "file_extension": ".py",
   "mimetype": "text/x-python",
   "name": "python",
   "nbconvert_exporter": "python",
   "pygments_lexer": "ipython3",
   "version": "3.8.20"
  }
 },
 "nbformat": 4,
 "nbformat_minor": 2
}
