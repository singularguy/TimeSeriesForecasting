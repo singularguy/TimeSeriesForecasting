{
 "cells": [
  {
   "cell_type": "code",
   "execution_count": 5,
   "metadata": {},
   "outputs": [],
   "source": [
    "import numpy as np\n",
    "import pandas as pd\n",
    "import xgboost as xgb\n",
    "from sklearn.model_selection import train_test_split\n",
    "from sklearn.metrics import mean_squared_error\n",
    "from sklearn.preprocessing import MinMaxScaler\n",
    "from scipy.linalg import hankel\n",
    "import matplotlib.pyplot as plt\n",
    "import plotly.graph_objs as go\n",
    "import plotly.offline as pyo\n",
    "\n",
    "import numpy as np\n",
    "import pandas as pd\n",
    "import xgboost as xgb\n",
    "from sklearn.model_selection import train_test_split\n",
    "from sklearn.metrics import mean_squared_error\n",
    "from sklearn.preprocessing import MinMaxScaler\n",
    "import matplotlib.pyplot as plt\n",
    "\n",
    "# 特征工程函数\n",
    "def create_features(data, lag, step=1):\n",
    "    \"\"\"\n",
    "    创建特征和目标变量\n",
    "    :param data: 输入的时间序列数据\n",
    "    :param lag: 滞后阶数\n",
    "    :param step: 预测步长(默认值为1)\n",
    "    :return: 特征矩阵X和目标变量y\n",
    "    \"\"\"\n",
    "    X, y = [], []\n",
    "    for i in range(0, len(data) - lag - step + 1, step):\n",
    "        X.append(data[i:i + lag])\n",
    "        y.append(data[i + lag:i + lag + step])\n",
    "    return np.array(X), np.array(y)\n",
    "\n",
    "# 加载并预处理数据\n",
    "data = pd.read_csv('./data/total_load_actual.csv')  # 加载CSV文件\n",
    "if data.isnull().any().any():\n",
    "    data = data.ffill()  # 填充缺失值\n",
    "\n",
    "total_actual_load_list = data['total load actual'].tolist()  # 提取时间序列数据\n",
    "\n",
    "# 数据标准化\n",
    "scaler = MinMaxScaler(feature_range=(0, 1))  # 创建标准化器\n",
    "total_actual_load_list_scaled = scaler.fit_transform(np.array(total_actual_load_list).reshape(-1, 1)).flatten()\n",
    "time_series = total_actual_load_list_scaled\n",
    "\n",
    "# 创建特征和目标变量\n",
    "lag = 20  # 滞后阶数\n",
    "X, y = create_features(time_series, lag)  # 生成特征矩阵和目标变量\n",
    "\n",
    "# 划分训练集和测试集\n",
    "X_train, X_test, y_train, y_test = train_test_split(X, y, test_size=0.2, random_state=42)  # 按8:2划分数据\n",
    "\n",
    "# 特征和目标变量的标准化\n",
    "scaler_X = MinMaxScaler()  # 创建特征标准化器\n",
    "scaler_y = MinMaxScaler()  # 创建目标变量标准化器\n",
    "\n",
    "X_train_scaled = scaler_X.fit_transform(X_train)  # 标准化训练特征\n",
    "X_test_scaled = scaler_X.transform(X_test)  # 标准化测试特征\n",
    "\n",
    "y_train_scaled = scaler_y.fit_transform(y_train)  # 标准化训练目标变量\n",
    "y_test_scaled = scaler_y.transform(y_test)  # 标准化测试目标变量\n",
    "\n",
    "# 使用xgb.train()方法训练模型\n",
    "dtrain = xgb.DMatrix(X_train_scaled, label=y_train_scaled.ravel())  # 创建训练数据矩阵\n",
    "dtest = xgb.DMatrix(X_test_scaled, label=y_test_scaled.ravel())  # 创建测试数据矩阵\n",
    "\n",
    "params = {\n",
    "    'objective': 'reg:squarederror',  # 回归目标\n",
    "    'max_depth': 3,  # 树的最大深度\n",
    "    'learning_rate': 0.1,  # 学习率\n",
    "    'random_state': 42,  # 随机种子\n",
    "    'eval_metric': 'rmse'  # 评估指标为RMSE\n",
    "}\n",
    "\n",
    "num_boost_round = 100  # 设置迭代次数\n",
    "\n",
    "evals_result = {}  # 存储评估结果\n",
    "model = xgb.train(params, dtrain, num_boost_round,\n",
    "                  evals=[(dtrain, 'train'), (dtest, 'test')],\n",
    "                  evals_result=evals_result,\n",
    "                  verbose_eval=False)  # 训练模型\n",
    "\n",
    "train_losses = evals_result['train']['rmse']  # 提取训练集上的RMSE"
   ]
  },
  {
   "cell_type": "code",
   "execution_count": 6,
   "metadata": {},
   "outputs": [
    {
     "data": {
      "image/png": "[encoded data removed]",
      "text/plain": [
       "<Figure size 640x480 with 1 Axes>"
      ]
     },
     "metadata": {},
     "output_type": "display_data"
    }
   ],
   "source": [
    "# 绘制特征重要性\n",
    "xgb.plot_importance(model, importance_type='weight', max_num_features=10)\n",
    "plt.show()"
   ]
  },
  {
   "cell_type": "code",
   "execution_count": 7,
   "metadata": {},
   "outputs": [
    {
     "name": "stdout",
     "output_type": "stream",
     "text": [
      "+----------------------+-----------------------+----------------------+-----------------------+\n",
      "|   Metrics            |   Original Scale      |   Normalized Scale   |\n",
      "+----------------------+-----------------------+----------------------+-----------------------+\n",
      "| MSE                  |        502354.459488 |             0.000952 |\n",
      "| MAE                  |           490.941425 |             0.021369 |\n",
      "| MAPE                 |             1.738018 |             5.883150 |\n",
      "| RMSE                 |           708.769680 |             0.030851 |\n",
      "| R²                   |             0.975650 |             0.975650 |\n",
      "| SMAPE                |             0.017400 |             0.056730 |\n",
      "+----------------------+-----------------------+----------------------+-----------------------+\n"
     ]
    }
   ],
   "source": [
    "\n",
    "# 进行预测\n",
    "y_pred_scaled = model.predict(dtest)\n",
    "\n",
    "# 反标准化预测值和真实值\n",
    "y_pred = scaler_y.inverse_transform(y_pred_scaled.reshape(-1, 1)).flatten()\n",
    "y_test_true = scaler_y.inverse_transform(y_test_scaled).flatten()\n",
    "\n",
    "# 由于进行了两次标准化,需要对预测值和真实值进行两次反向转换\n",
    "y_pred_inverse = scaler.inverse_transform(y_pred.reshape(-1, 1)).flatten()\n",
    "y_test_inverse = scaler.inverse_transform(y_test_true.reshape(-1, 1)).flatten()\n",
    "\n",
    "# 计算指标\n",
    "def calculate_metrics(y_true, y_pred):\n",
    "    mse = mean_squared_error(y_true, y_pred)\n",
    "    mae = np.mean(np.abs(y_true - y_pred))\n",
    "    mape = np.mean(np.abs((y_true - y_pred) / y_true)) * 100\n",
    "    rmse = np.sqrt(mse)\n",
    "    r2 = 1 - (np.sum((y_true - y_pred) ** 2) / np.sum((y_true - np.mean(y_true)) ** 2))\n",
    "    smape = np.mean(2 * np.abs(y_true - y_pred) / (np.abs(y_true) + np.abs(y_pred)))\n",
    "    return mse, mae, mape, rmse, r2, smape\n",
    "\n",
    "# 计算归一化尺度的指标\n",
    "mse_normalized, mae_normalized, mape_normalized, rmse_normalized, r2_normalized, smape_normalized = calculate_metrics(y_test_scaled.flatten(), y_pred_scaled)\n",
    "\n",
    "# 计算原始尺度的指标\n",
    "mse_original, mae_original, mape_original, rmse_original, r2_original, smape_original = calculate_metrics(y_test_inverse, y_pred_inverse)\n",
    "\n",
    "# 打印指标表格\n",
    "print('+----------------------+-----------------------+----------------------+-----------------------+')\n",
    "print('|   Metrics            |   Original Scale      |   Normalized Scale   |')\n",
    "print('+----------------------+-----------------------+----------------------+-----------------------+')\n",
    "metrics = [\n",
    "    ('MSE', mse_original, mse_normalized),\n",
    "    ('MAE', mae_original, mae_normalized),\n",
    "    ('MAPE', mape_original, mape_normalized),\n",
    "    ('RMSE', rmse_original, rmse_normalized),\n",
    "    ('R²', r2_original, r2_normalized),\n",
    "    ('SMAPE', smape_original, smape_normalized)\n",
    "]\n",
    "\n",
    "for metric, original_value, normalized_value in metrics:\n",
    "    print(f'| {metric:<20} | {original_value:>20.6f} | {normalized_value:>20.6f} |')\n",
    "\n",
    "print('+----------------------+-----------------------+----------------------+-----------------------+')\n"
   ]
  },
  {
   "cell_type": "code",
   "execution_count": 8,
   "metadata": {},
   "outputs": [
    {
     "data": {
      "application/vnd.plotly.v1+json": {
       "config": {
        "plotlyServerURL": "https://plot.ly"
       },
       "data": [
        {
         "line": {
          "color": "#36A2EB",
          "shape": "spline",
          "width": 3
         },
         "marker": {
          "color": "rgba(0,0,0,0)",
          "line": {
           "color": "#36A2EB",
           "width": 2
          },
          "size": 5,
          "symbol": "circle"
         },
         "mode": "lines+markers",
         "name": "Train",
         "type": "scatter",
         "x": [
          0,
          1,
          2,
          3,
          4,
          5,
          6,
          7,
          8,
          9,
          10,
          11,
          12,
          13,
          14,
          15,
          16,
          17,
          18,
          19,
          20,
          21,
          22,
          23,
          24,
          25,
          26,
          27,
          28,
          29,
          30,
          31,
          32,
          33,
          34,
          35,
          36,
          37,
          38,
          39,
          40,
          41,
          42,
          43,
          44,
          45,
          46,
          47,
          48,
          49,
          50,
          51,
          52,
          53,
          54,
          55,
          56,
          57,
          58,
          59,
          60,
          61,
          62,
          63,
          64,
          65,
          66,
          67,
          68,
          69,
          70,
          71,
          72,
          73,
          74,
          75,
          76,
          77,
          78,
          79,
          80,
          81,
          82,
          83,
          84,
          85,
          86,
          87,
          88,
          89,
          90,
          91,
          92,
          93,
          94,
          95,
          96,
          97,
          98,
          99
         ],
         "y": [
          0.1819114132781916,
          0.1662088480943395,
          0.15214241017622507,
          0.13954287676314392,
          0.12826710983541587,
          0.1181897586967218,
          0.10922249525822957,
          0.10129847063334317,
          0.09424806752766306,
          0.08803290412343065,
          0.08243512769982313,
          0.07758118129859168,
          0.07319191667900353,
          0.06938681504491315,
          0.06599872210301339,
          0.06302026697494255,
          0.06020784353329806,
          0.05787446508463559,
          0.05586430208356672,
          0.05397128185916941,
          0.05215400229251865,
          0.05057124517853245,
          0.04904660161772922,
          0.04793634001915054,
          0.04696120720519589,
          0.04591499849440888,
          0.04503520251769592,
          0.04434572674295981,
          0.04340178059789763,
          0.04269997744283776,
          0.04216963590084198,
          0.04166765397283297,
          0.0408982089234542,
          0.04038717539686442,
          0.03983173938086362,
          0.03943863243830308,
          0.03908923672537654,
          0.0386322211566384,
          0.03826681083550744,
          0.03775976988537651,
          0.03741092228147926,
          0.0371816890794335,
          0.03680666814579158,
          0.03651268723549591,
          0.03625829563132325,
          0.0360420881245955,
          0.03574206570712347,
          0.03551442797144536,
          0.03536572288957201,
          0.03505860230151883,
          0.03491264687850965,
          0.03475799531370424,
          0.03455522154309994,
          0.03438809155352984,
          0.03424701520599034,
          0.0341071557815179,
          0.03388033928108565,
          0.03372903383829762,
          0.03364593752098619,
          0.03349577083600918,
          0.03337308890214523,
          0.03323869787207338,
          0.03315289053394501,
          0.03299795621314015,
          0.03288215981563763,
          0.03275283742185151,
          0.03265105306685503,
          0.03254392698806312,
          0.03247025835974734,
          0.03235663094010143,
          0.03225210924436699,
          0.03215629079641883,
          0.03210196895365273,
          0.03201566586927571,
          0.03193044562383424,
          0.03185456666772441,
          0.03175769130012287,
          0.03170380978747644,
          0.03163092450132134,
          0.03155811632883589,
          0.03139576750312262,
          0.03129887908820217,
          0.03126900675226427,
          0.03113391842469118,
          0.03106398410456337,
          0.0309972552130067,
          0.03095599185919842,
          0.03089827119901931,
          0.03079770873251942,
          0.03077571782193351,
          0.03066387385765343,
          0.03055526996828999,
          0.03050902925151217,
          0.03046828369032815,
          0.03037043872067136,
          0.03031682728179769,
          0.03029924900927236,
          0.03025314720884057,
          0.03020072116752449,
          0.03017704708261882
         ]
        }
       ],
       "layout": {
        "font": {
         "color": "black",
         "family": "Times New Roman",
         "size": 12
        },
        "height": 600,
        "legend": {
         "bgcolor": "rgba(255, 255, 255, 0.5)",
         "bordercolor": "black",
         "borderwidth": 1,
         "font": {
          "color": "black",
          "family": "Times New Roman",
          "size": 12
         },
         "orientation": "h",
         "traceorder": "normal",
         "x": 0.5,
         "xanchor": "center",
         "y": 1.1
        },
        "paper_bgcolor": "rgba(240, 240, 240, 0.9)",
        "plot_bgcolor": "rgba(255, 255, 255, 0.9)",
        "showlegend": true,
        "template": {
         "data": {
          "bar": [
           {
            "error_x": {
             "color": "#2a3f5f"
            },
            "error_y": {
             "color": "#2a3f5f"
            },
            "marker": {
             "line": {
              "color": "#E5ECF6",
              "width": 0.5
             },
             "pattern": {
              "fillmode": "overlay",
              "size": 10,
              "solidity": 0.2
             }
            },
            "type": "bar"
           }
          ],
          "barpolar": [
           {
            "marker": {
             "line": {
              "color": "#E5ECF6",
              "width": 0.5
             },
             "pattern": {
              "fillmode": "overlay",
              "size": 10,
              "solidity": 0.2
             }
            },
            "type": "barpolar"
           }
          ],
          "carpet": [
           {
            "aaxis": {
             "endlinecolor": "#2a3f5f",
             "gridcolor": "white",
             "linecolor": "white",
             "minorgridcolor": "white",
             "startlinecolor": "#2a3f5f"
            },
            "baxis": {
             "endlinecolor": "#2a3f5f",
             "gridcolor": "white",
             "linecolor": "white",
             "minorgridcolor": "white",
             "startlinecolor": "#2a3f5f"
            },
            "type": "carpet"
           }
          ],
          "choropleth": [
           {
            "colorbar": {
             "outlinewidth": 0,
             "ticks": ""
            },
            "type": "choropleth"
           }
          ],
          "contour": [
           {
            "colorbar": {
             "outlinewidth": 0,
             "ticks": ""
            },
            "colorscale": [
             [
              0,
              "#0d0887"
             ],
             [
              0.1111111111111111,
              "#46039f"
             ],
             [
              0.2222222222222222,
              "#7201a8"
             ],
             [
              0.3333333333333333,
              "#9c179e"
             ],
             [
              0.4444444444444444,
              "#bd3786"
             ],
             [
              0.5555555555555556,
              "#d8576b"
             ],
             [
              0.6666666666666666,
              "#ed7953"
             ],
             [
              0.7777777777777778,
              "#fb9f3a"
             ],
             [
              0.8888888888888888,
              "#fdca26"
             ],
             [
              1,
              "#f0f921"
             ]
            ],
            "type": "contour"
           }
          ],
          "contourcarpet": [
           {
            "colorbar": {
             "outlinewidth": 0,
             "ticks": ""
            },
            "type": "contourcarpet"
           }
          ],
          "heatmap": [
           {
            "colorbar": {
             "outlinewidth": 0,
             "ticks": ""
            },
            "colorscale": [
             [
              0,
              "#0d0887"
             ],
             [
              0.1111111111111111,
              "#46039f"
             ],
             [
              0.2222222222222222,
              "#7201a8"
             ],
             [
              0.3333333333333333,
              "#9c179e"
             ],
             [
              0.4444444444444444,
              "#bd3786"
             ],
             [
              0.5555555555555556,
              "#d8576b"
             ],
             [
              0.6666666666666666,
              "#ed7953"
             ],
             [
              0.7777777777777778,
              "#fb9f3a"
             ],
             [
              0.8888888888888888,
              "#fdca26"
             ],
             [
              1,
              "#f0f921"
             ]
            ],
            "type": "heatmap"
           }
          ],
          "heatmapgl": [
           {
            "colorbar": {
             "outlinewidth": 0,
             "ticks": ""
            },
            "colorscale": [
             [
              0,
              "#0d0887"
             ],
             [
              0.1111111111111111,
              "#46039f"
             ],
             [
              0.2222222222222222,
              "#7201a8"
             ],
             [
              0.3333333333333333,
              "#9c179e"
             ],
             [
              0.4444444444444444,
              "#bd3786"
             ],
             [
              0.5555555555555556,
              "#d8576b"
             ],
             [
              0.6666666666666666,
              "#ed7953"
             ],
             [
              0.7777777777777778,
              "#fb9f3a"
             ],
             [
              0.8888888888888888,
              "#fdca26"
             ],
             [
              1,
              "#f0f921"
             ]
            ],
            "type": "heatmapgl"
           }
          ],
          "histogram": [
           {
            "marker": {
             "pattern": {
              "fillmode": "overlay",
              "size": 10,
              "solidity": 0.2
             }
            },
            "type": "histogram"
           }
          ],
          "histogram2d": [
           {
            "colorbar": {
             "outlinewidth": 0,
             "ticks": ""
            },
            "colorscale": [
             [
              0,
              "#0d0887"
             ],
             [
              0.1111111111111111,
              "#46039f"
             ],
             [
              0.2222222222222222,
              "#7201a8"
             ],
             [
              0.3333333333333333,
              "#9c179e"
             ],
             [
              0.4444444444444444,
              "#bd3786"
             ],
             [
              0.5555555555555556,
              "#d8576b"
             ],
             [
              0.6666666666666666,
              "#ed7953"
             ],
             [
              0.7777777777777778,
              "#fb9f3a"
             ],
             [
              0.8888888888888888,
              "#fdca26"
             ],
             [
              1,
              "#f0f921"
             ]
            ],
            "type": "histogram2d"
           }
          ],
          "histogram2dcontour": [
           {
            "colorbar": {
             "outlinewidth": 0,
             "ticks": ""
            },
            "colorscale": [
             [
              0,
              "#0d0887"
             ],
             [
              0.1111111111111111,
              "#46039f"
             ],
             [
              0.2222222222222222,
              "#7201a8"
             ],
             [
              0.3333333333333333,
              "#9c179e"
             ],
             [
              0.4444444444444444,
              "#bd3786"
             ],
             [
              0.5555555555555556,
              "#d8576b"
             ],
             [
              0.6666666666666666,
              "#ed7953"
             ],
             [
              0.7777777777777778,
              "#fb9f3a"
             ],
             [
              0.8888888888888888,
              "#fdca26"
             ],
             [
              1,
              "#f0f921"
             ]
            ],
            "type": "histogram2dcontour"
           }
          ],
          "mesh3d": [
           {
            "colorbar": {
             "outlinewidth": 0,
             "ticks": ""
            },
            "type": "mesh3d"
           }
          ],
          "parcoords": [
           {
            "line": {
             "colorbar": {
              "outlinewidth": 0,
              "ticks": ""
             }
            },
            "type": "parcoords"
           }
          ],
          "pie": [
           {
            "automargin": true,
            "type": "pie"
           }
          ],
          "scatter": [
           {
            "fillpattern": {
             "fillmode": "overlay",
             "size": 10,
             "solidity": 0.2
            },
            "type": "scatter"
           }
          ],
          "scatter3d": [
           {
            "line": {
             "colorbar": {
              "outlinewidth": 0,
              "ticks": ""
             }
            },
            "marker": {
             "colorbar": {
              "outlinewidth": 0,
              "ticks": ""
             }
            },
            "type": "scatter3d"
           }
          ],
          "scattercarpet": [
           {
            "marker": {
             "colorbar": {
              "outlinewidth": 0,
              "ticks": ""
             }
            },
            "type": "scattercarpet"
           }
          ],
          "scattergeo": [
           {
            "marker": {
             "colorbar": {
              "outlinewidth": 0,
              "ticks": ""
             }
            },
            "type": "scattergeo"
           }
          ],
          "scattergl": [
           {
            "marker": {
             "colorbar": {
              "outlinewidth": 0,
              "ticks": ""
             }
            },
            "type": "scattergl"
           }
          ],
          "scattermapbox": [
           {
            "marker": {
             "colorbar": {
              "outlinewidth": 0,
              "ticks": ""
             }
            },
            "type": "scattermapbox"
           }
          ],
          "scatterpolar": [
           {
            "marker": {
             "colorbar": {
              "outlinewidth": 0,
              "ticks": ""
             }
            },
            "type": "scatterpolar"
           }
          ],
          "scatterpolargl": [
           {
            "marker": {
             "colorbar": {
              "outlinewidth": 0,
              "ticks": ""
             }
            },
            "type": "scatterpolargl"
           }
          ],
          "scatterternary": [
           {
            "marker": {
             "colorbar": {
              "outlinewidth": 0,
              "ticks": ""
             }
            },
            "type": "scatterternary"
           }
          ],
          "surface": [
           {
            "colorbar": {
             "outlinewidth": 0,
             "ticks": ""
            },
            "colorscale": [
             [
              0,
              "#0d0887"
             ],
             [
              0.1111111111111111,
              "#46039f"
             ],
             [
              0.2222222222222222,
              "#7201a8"
             ],
             [
              0.3333333333333333,
              "#9c179e"
             ],
             [
              0.4444444444444444,
              "#bd3786"
             ],
             [
              0.5555555555555556,
              "#d8576b"
             ],
             [
              0.6666666666666666,
              "#ed7953"
             ],
             [
              0.7777777777777778,
              "#fb9f3a"
             ],
             [
              0.8888888888888888,
              "#fdca26"
             ],
             [
              1,
              "#f0f921"
             ]
            ],
            "type": "surface"
           }
          ],
          "table": [
           {
            "cells": {
             "fill": {
              "color": "#EBF0F8"
             },
             "line": {
              "color": "white"
             }
            },
            "header": {
             "fill": {
              "color": "#C8D4E3"
             },
             "line": {
              "color": "white"
             }
            },
            "type": "table"
           }
          ]
         },
         "layout": {
          "annotationdefaults": {
           "arrowcolor": "#2a3f5f",
           "arrowhead": 0,
           "arrowwidth": 1
          },
          "autotypenumbers": "strict",
          "coloraxis": {
           "colorbar": {
            "outlinewidth": 0,
            "ticks": ""
           }
          },
          "colorscale": {
           "diverging": [
            [
             0,
             "#8e0152"
            ],
            [
             0.1,
             "#c51b7d"
            ],
            [
             0.2,
             "#de77ae"
            ],
            [
             0.3,
             "#f1b6da"
            ],
            [
             0.4,
             "#fde0ef"
            ],
            [
             0.5,
             "#f7f7f7"
            ],
            [
             0.6,
             "#e6f5d0"
            ],
            [
             0.7,
             "#b8e186"
            ],
            [
             0.8,
             "#7fbc41"
            ],
            [
             0.9,
             "#4d9221"
            ],
            [
             1,
             "#276419"
            ]
           ],
           "sequential": [
            [
             0,
             "#0d0887"
            ],
            [
             0.1111111111111111,
             "#46039f"
            ],
            [
             0.2222222222222222,
             "#7201a8"
            ],
            [
             0.3333333333333333,
             "#9c179e"
            ],
            [
             0.4444444444444444,
             "#bd3786"
            ],
            [
             0.5555555555555556,
             "#d8576b"
            ],
            [
             0.6666666666666666,
             "#ed7953"
            ],
            [
             0.7777777777777778,
             "#fb9f3a"
            ],
            [
             0.8888888888888888,
             "#fdca26"
            ],
            [
             1,
             "#f0f921"
            ]
           ],
           "sequentialminus": [
            [
             0,
             "#0d0887"
            ],
            [
             0.1111111111111111,
             "#46039f"
            ],
            [
             0.2222222222222222,
             "#7201a8"
            ],
            [
             0.3333333333333333,
             "#9c179e"
            ],
            [
             0.4444444444444444,
             "#bd3786"
            ],
            [
             0.5555555555555556,
             "#d8576b"
            ],
            [
             0.6666666666666666,
             "#ed7953"
            ],
            [
             0.7777777777777778,
             "#fb9f3a"
            ],
            [
             0.8888888888888888,
             "#fdca26"
            ],
            [
             1,
             "#f0f921"
            ]
           ]
          },
          "colorway": [
           "#636efa",
           "#EF553B",
           "#00cc96",
           "#ab63fa",
           "#FFA15A",
           "#19d3f3",
           "#FF6692",
           "#B6E880",
           "#FF97FF",
           "#FECB52"
          ],
          "font": {
           "color": "#2a3f5f"
          },
          "geo": {
           "bgcolor": "white",
           "lakecolor": "white",
           "landcolor": "#E5ECF6",
           "showlakes": true,
           "showland": true,
           "subunitcolor": "white"
          },
          "hoverlabel": {
           "align": "left"
          },
          "hovermode": "closest",
          "mapbox": {
           "style": "light"
          },
          "paper_bgcolor": "white",
          "plot_bgcolor": "#E5ECF6",
          "polar": {
           "angularaxis": {
            "gridcolor": "white",
            "linecolor": "white",
            "ticks": ""
           },
           "bgcolor": "#E5ECF6",
           "radialaxis": {
            "gridcolor": "white",
            "linecolor": "white",
            "ticks": ""
           }
          },
          "scene": {
           "xaxis": {
            "backgroundcolor": "#E5ECF6",
            "gridcolor": "white",
            "gridwidth": 2,
            "linecolor": "white",
            "showbackground": true,
            "ticks": "",
            "zerolinecolor": "white"
           },
           "yaxis": {
            "backgroundcolor": "#E5ECF6",
            "gridcolor": "white",
            "gridwidth": 2,
            "linecolor": "white",
            "showbackground": true,
            "ticks": "",
            "zerolinecolor": "white"
           },
           "zaxis": {
            "backgroundcolor": "#E5ECF6",
            "gridcolor": "white",
            "gridwidth": 2,
            "linecolor": "white",
            "showbackground": true,
            "ticks": "",
            "zerolinecolor": "white"
           }
          },
          "shapedefaults": {
           "line": {
            "color": "#2a3f5f"
           }
          },
          "ternary": {
           "aaxis": {
            "gridcolor": "white",
            "linecolor": "white",
            "ticks": ""
           },
           "baxis": {
            "gridcolor": "white",
            "linecolor": "white",
            "ticks": ""
           },
           "bgcolor": "#E5ECF6",
           "caxis": {
            "gridcolor": "white",
            "linecolor": "white",
            "ticks": ""
           }
          },
          "title": {
           "x": 0.05
          },
          "xaxis": {
           "automargin": true,
           "gridcolor": "white",
           "linecolor": "white",
           "ticks": "",
           "title": {
            "standoff": 15
           },
           "zerolinecolor": "white",
           "zerolinewidth": 2
          },
          "yaxis": {
           "automargin": true,
           "gridcolor": "white",
           "linecolor": "white",
           "ticks": "",
           "title": {
            "standoff": 15
           },
           "zerolinecolor": "white",
           "zerolinewidth": 2
          }
         }
        },
        "title": {
         "font": {
          "color": "black",
          "family": "Times New Roman",
          "size": 20
         },
         "text": "XGBoost-SSA: Train Loss Curve"
        },
        "width": 1200,
        "xaxis": {
         "gridcolor": "lightgray",
         "title": {
          "font": {
           "color": "black",
           "family": "Times New Roman",
           "size": 14
          },
          "text": "Time Step"
         }
        },
        "yaxis": {
         "gridcolor": "lightgray",
         "title": {
          "font": {
           "color": "black",
           "family": "Times New Roman",
           "size": 14
          },
          "text": "Load"
         }
        }
       }
      }
     },
     "metadata": {},
     "output_type": "display_data"
    },
    {
     "data": {
      "application/vnd.plotly.v1+json": {
       "config": {
        "plotlyServerURL": "https://plot.ly"
       },
       "data": [
        {
         "line": {
          "color": "#FF6347",
          "shape": "spline",
          "width": 3
         },
         "marker": {
          "color": "rgba(0,0,0,0)",
          "line": {
           "color": "#FF0000",
           "width": 2
          },
          "size": 5,
          "symbol": "circle"
         },
         "mode": "lines+markers",
         "name": "Actual",
         "type": "scatter",
         "x": [
          0,
          1,
          2,
          3,
          4,
          5,
          6,
          7,
          8,
          9,
          10,
          11,
          12,
          13,
          14,
          15,
          16,
          17,
          18,
          19,
          20,
          21,
          22,
          23,
          24,
          25,
          26,
          27,
          28,
          29,
          30,
          31,
          32,
          33,
          34,
          35,
          36,
          37,
          38,
          39,
          40,
          41,
          42,
          43,
          44,
          45,
          46,
          47,
          48,
          49,
          50,
          51,
          52,
          53,
          54,
          55,
          56,
          57,
          58,
          59,
          60,
          61,
          62,
          63,
          64,
          65,
          66,
          67,
          68,
          69,
          70,
          71,
          72,
          73,
          74,
          75,
          76,
          77,
          78,
          79,
          80,
          81,
          82,
          83,
          84,
          85,
          86,
          87,
          88,
          89,
          90,
          91,
          92,
          93,
          94,
          95,
          96,
          97,
          98,
          99
         ],
         "y": [
          21624,
          28405,
          22029,
          35349,
          33702,
          22109,
          30116.999999999996,
          36003,
          24389,
          25702,
          34994,
          28723.000000000004,
          28618.000000000004,
          22861,
          25672,
          30681,
          23497,
          34641,
          34308,
          29775,
          29811.999999999996,
          28775,
          29786.999999999996,
          34586,
          29896,
          29066.000000000004,
          35578,
          34486,
          22685,
          28214,
          25191,
          29390,
          26779.000000000004,
          21162,
          24626,
          32527,
          22018,
          26644.000000000004,
          33638,
          31185,
          32514.000000000004,
          23245,
          26443,
          39436,
          25289,
          27577.000000000004,
          22835,
          19989,
          36287,
          25927,
          25955,
          33783,
          31755.999999999996,
          29266.000000000004,
          22054,
          24856,
          27464,
          28265,
          30416,
          27957,
          34577,
          24742,
          25705,
          30226,
          27432.000000000004,
          23805,
          24657.000000000004,
          36615,
          31637,
          33442,
          31437,
          27549,
          20239,
          22858,
          32706.999999999996,
          28191,
          35581,
          26114,
          31371,
          25875.999999999996,
          33892,
          25342,
          28376,
          32504.000000000004,
          31154,
          32835,
          22908,
          30955.000000000004,
          33235,
          26187,
          31202.999999999996,
          28292.999999999996,
          26645,
          38173,
          25107.999999999996,
          28750.999999999996,
          30381,
          33817,
          21095,
          30788
         ]
        },
        {
         "line": {
          "color": "#36A2EB",
          "dash": "dot",
          "shape": "spline",
          "width": 3
         },
         "marker": {
          "color": "rgba(0,0,0,0)",
          "line": {
           "color": "#007bff",
           "width": 2
          },
          "size": 5,
          "symbol": "x"
         },
         "mode": "lines+markers",
         "name": "Predicted",
         "type": "scatter",
         "x": [
          0,
          1,
          2,
          3,
          4,
          5,
          6,
          7,
          8,
          9,
          10,
          11,
          12,
          13,
          14,
          15,
          16,
          17,
          18,
          19,
          20,
          21,
          22,
          23,
          24,
          25,
          26,
          27,
          28,
          29,
          30,
          31,
          32,
          33,
          34,
          35,
          36,
          37,
          38,
          39,
          40,
          41,
          42,
          43,
          44,
          45,
          46,
          47,
          48,
          49,
          50,
          51,
          52,
          53,
          54,
          55,
          56,
          57,
          58,
          59,
          60,
          61,
          62,
          63,
          64,
          65,
          66,
          67,
          68,
          69,
          70,
          71,
          72,
          73,
          74,
          75,
          76,
          77,
          78,
          79,
          80,
          81,
          82,
          83,
          84,
          85,
          86,
          87,
          88,
          89,
          90,
          91,
          92,
          93,
          94,
          95,
          96,
          97,
          98,
          99
         ],
         "y": [
          21706.279296875,
          28353.232421875,
          21796.8671875,
          35588.796875,
          33587.78125,
          22147.140625,
          30525,
          35209.88671875,
          24357.59375,
          25953.849609375,
          33645.29296875,
          28467.814453125,
          28289.728515625,
          23800.0703125,
          26163.052734375,
          31338.29296875,
          23551.29296875,
          34356.3203125,
          34931.16015625,
          29523.7421875,
          30137.583984375,
          28674.03125,
          29754.765625,
          33738.81640625,
          30017.09375,
          28794.017578125,
          35168.328125,
          34820.05078125,
          22875.283203125,
          28124.576171875,
          24493.537109375,
          29647.92578125,
          27457.828125,
          21328.28125,
          24829.615234375,
          31924.9140625,
          21836.46875,
          26629.810546875,
          33470.6875,
          32231.05078125,
          31988.509765625,
          23031.890625,
          26164.34765625,
          38559.359375,
          26960.720703125,
          28259.537109375,
          23085.314453125,
          20341.955078125,
          36118.30859375,
          26269.470703125,
          26335.3203125,
          32904.20703125,
          31502.94140625,
          28843.484375,
          22472.939453125,
          24496.619140625,
          27685.396484375,
          29607.177734375,
          30733.970703125,
          27061.0078125,
          33310.58203125,
          24072.93359375,
          25715.521484375,
          30422.69921875,
          27186.205078125,
          24626.86328125,
          24597.00390625,
          35579.6640625,
          31786.34375,
          34306.54296875,
          31369.60546875,
          28369.09765625,
          20067.974609375,
          22734.25390625,
          32431.458984375,
          28144.267578125,
          35328.7578125,
          25804.408203125,
          31525.82421875,
          26370.32421875,
          34008.53515625,
          23447.654296875,
          28223.81640625,
          32128.4296875,
          31596.091796875,
          32726.67578125,
          23063.435546875,
          30460.20703125,
          32685.203125,
          25279.453125,
          31456.90625,
          28544.99609375,
          27173.82421875,
          37690.890625,
          23460.46484375,
          28304.01171875,
          30684.564453125,
          33685.390625,
          22391.015625,
          30908.66015625
         ]
        }
       ],
       "layout": {
        "font": {
         "color": "black",
         "family": "Times New Roman",
         "size": 12
        },
        "height": 600,
        "legend": {
         "bgcolor": "rgba(255, 255, 255, 0.5)",
         "bordercolor": "black",
         "borderwidth": 1,
         "font": {
          "color": "black",
          "family": "Times New Roman",
          "size": 12
         },
         "orientation": "h",
         "traceorder": "normal",
         "x": 0.5,
         "xanchor": "center",
         "y": 1.1
        },
        "paper_bgcolor": "rgba(240, 240, 240, 0.9)",
        "plot_bgcolor": "rgba(255, 255, 255, 0.9)",
        "showlegend": true,
        "template": {
         "data": {
          "bar": [
           {
            "error_x": {
             "color": "#2a3f5f"
            },
            "error_y": {
             "color": "#2a3f5f"
            },
            "marker": {
             "line": {
              "color": "#E5ECF6",
              "width": 0.5
             },
             "pattern": {
              "fillmode": "overlay",
              "size": 10,
              "solidity": 0.2
             }
            },
            "type": "bar"
           }
          ],
          "barpolar": [
           {
            "marker": {
             "line": {
              "color": "#E5ECF6",
              "width": 0.5
             },
             "pattern": {
              "fillmode": "overlay",
              "size": 10,
              "solidity": 0.2
             }
            },
            "type": "barpolar"
           }
          ],
          "carpet": [
           {
            "aaxis": {
             "endlinecolor": "#2a3f5f",
             "gridcolor": "white",
             "linecolor": "white",
             "minorgridcolor": "white",
             "startlinecolor": "#2a3f5f"
            },
            "baxis": {
             "endlinecolor": "#2a3f5f",
             "gridcolor": "white",
             "linecolor": "white",
             "minorgridcolor": "white",
             "startlinecolor": "#2a3f5f"
            },
            "type": "carpet"
           }
          ],
          "choropleth": [
           {
            "colorbar": {
             "outlinewidth": 0,
             "ticks": ""
            },
            "type": "choropleth"
           }
          ],
          "contour": [
           {
            "colorbar": {
             "outlinewidth": 0,
             "ticks": ""
            },
            "colorscale": [
             [
              0,
              "#0d0887"
             ],
             [
              0.1111111111111111,
              "#46039f"
             ],
             [
              0.2222222222222222,
              "#7201a8"
             ],
             [
              0.3333333333333333,
              "#9c179e"
             ],
             [
              0.4444444444444444,
              "#bd3786"
             ],
             [
              0.5555555555555556,
              "#d8576b"
             ],
             [
              0.6666666666666666,
              "#ed7953"
             ],
             [
              0.7777777777777778,
              "#fb9f3a"
             ],
             [
              0.8888888888888888,
              "#fdca26"
             ],
             [
              1,
              "#f0f921"
             ]
            ],
            "type": "contour"
           }
          ],
          "contourcarpet": [
           {
            "colorbar": {
             "outlinewidth": 0,
             "ticks": ""
            },
            "type": "contourcarpet"
           }
          ],
          "heatmap": [
           {
            "colorbar": {
             "outlinewidth": 0,
             "ticks": ""
            },
            "colorscale": [
             [
              0,
              "#0d0887"
             ],
             [
              0.1111111111111111,
              "#46039f"
             ],
             [
              0.2222222222222222,
              "#7201a8"
             ],
             [
              0.3333333333333333,
              "#9c179e"
             ],
             [
              0.4444444444444444,
              "#bd3786"
             ],
             [
              0.5555555555555556,
              "#d8576b"
             ],
             [
              0.6666666666666666,
              "#ed7953"
             ],
             [
              0.7777777777777778,
              "#fb9f3a"
             ],
             [
              0.8888888888888888,
              "#fdca26"
             ],
             [
              1,
              "#f0f921"
             ]
            ],
            "type": "heatmap"
           }
          ],
          "heatmapgl": [
           {
            "colorbar": {
             "outlinewidth": 0,
             "ticks": ""
            },
            "colorscale": [
             [
              0,
              "#0d0887"
             ],
             [
              0.1111111111111111,
              "#46039f"
             ],
             [
              0.2222222222222222,
              "#7201a8"
             ],
             [
              0.3333333333333333,
              "#9c179e"
             ],
             [
              0.4444444444444444,
              "#bd3786"
             ],
             [
              0.5555555555555556,
              "#d8576b"
             ],
             [
              0.6666666666666666,
              "#ed7953"
             ],
             [
              0.7777777777777778,
              "#fb9f3a"
             ],
             [
              0.8888888888888888,
              "#fdca26"
             ],
             [
              1,
              "#f0f921"
             ]
            ],
            "type": "heatmapgl"
           }
          ],
          "histogram": [
           {
            "marker": {
             "pattern": {
              "fillmode": "overlay",
              "size": 10,
              "solidity": 0.2
             }
            },
            "type": "histogram"
           }
          ],
          "histogram2d": [
           {
            "colorbar": {
             "outlinewidth": 0,
             "ticks": ""
            },
            "colorscale": [
             [
              0,
              "#0d0887"
             ],
             [
              0.1111111111111111,
              "#46039f"
             ],
             [
              0.2222222222222222,
              "#7201a8"
             ],
             [
              0.3333333333333333,
              "#9c179e"
             ],
             [
              0.4444444444444444,
              "#bd3786"
             ],
             [
              0.5555555555555556,
              "#d8576b"
             ],
             [
              0.6666666666666666,
              "#ed7953"
             ],
             [
              0.7777777777777778,
              "#fb9f3a"
             ],
             [
              0.8888888888888888,
              "#fdca26"
             ],
             [
              1,
              "#f0f921"
             ]
            ],
            "type": "histogram2d"
           }
          ],
          "histogram2dcontour": [
           {
            "colorbar": {
             "outlinewidth": 0,
             "ticks": ""
            },
            "colorscale": [
             [
              0,
              "#0d0887"
             ],
             [
              0.1111111111111111,
              "#46039f"
             ],
             [
              0.2222222222222222,
              "#7201a8"
             ],
             [
              0.3333333333333333,
              "#9c179e"
             ],
             [
              0.4444444444444444,
              "#bd3786"
             ],
             [
              0.5555555555555556,
              "#d8576b"
             ],
             [
              0.6666666666666666,
              "#ed7953"
             ],
             [
              0.7777777777777778,
              "#fb9f3a"
             ],
             [
              0.8888888888888888,
              "#fdca26"
             ],
             [
              1,
              "#f0f921"
             ]
            ],
            "type": "histogram2dcontour"
           }
          ],
          "mesh3d": [
           {
            "colorbar": {
             "outlinewidth": 0,
             "ticks": ""
            },
            "type": "mesh3d"
           }
          ],
          "parcoords": [
           {
            "line": {
             "colorbar": {
              "outlinewidth": 0,
              "ticks": ""
             }
            },
            "type": "parcoords"
           }
          ],
          "pie": [
           {
            "automargin": true,
            "type": "pie"
           }
          ],
          "scatter": [
           {
            "fillpattern": {
             "fillmode": "overlay",
             "size": 10,
             "solidity": 0.2
            },
            "type": "scatter"
           }
          ],
          "scatter3d": [
           {
            "line": {
             "colorbar": {
              "outlinewidth": 0,
              "ticks": ""
             }
            },
            "marker": {
             "colorbar": {
              "outlinewidth": 0,
              "ticks": ""
             }
            },
            "type": "scatter3d"
           }
          ],
          "scattercarpet": [
           {
            "marker": {
             "colorbar": {
              "outlinewidth": 0,
              "ticks": ""
             }
            },
            "type": "scattercarpet"
           }
          ],
          "scattergeo": [
           {
            "marker": {
             "colorbar": {
              "outlinewidth": 0,
              "ticks": ""
             }
            },
            "type": "scattergeo"
           }
          ],
          "scattergl": [
           {
            "marker": {
             "colorbar": {
              "outlinewidth": 0,
              "ticks": ""
             }
            },
            "type": "scattergl"
           }
          ],
          "scattermapbox": [
           {
            "marker": {
             "colorbar": {
              "outlinewidth": 0,
              "ticks": ""
             }
            },
            "type": "scattermapbox"
           }
          ],
          "scatterpolar": [
           {
            "marker": {
             "colorbar": {
              "outlinewidth": 0,
              "ticks": ""
             }
            },
            "type": "scatterpolar"
           }
          ],
          "scatterpolargl": [
           {
            "marker": {
             "colorbar": {
              "outlinewidth": 0,
              "ticks": ""
             }
            },
            "type": "scatterpolargl"
           }
          ],
          "scatterternary": [
           {
            "marker": {
             "colorbar": {
              "outlinewidth": 0,
              "ticks": ""
             }
            },
            "type": "scatterternary"
           }
          ],
          "surface": [
           {
            "colorbar": {
             "outlinewidth": 0,
             "ticks": ""
            },
            "colorscale": [
             [
              0,
              "#0d0887"
             ],
             [
              0.1111111111111111,
              "#46039f"
             ],
             [
              0.2222222222222222,
              "#7201a8"
             ],
             [
              0.3333333333333333,
              "#9c179e"
             ],
             [
              0.4444444444444444,
              "#bd3786"
             ],
             [
              0.5555555555555556,
              "#d8576b"
             ],
             [
              0.6666666666666666,
              "#ed7953"
             ],
             [
              0.7777777777777778,
              "#fb9f3a"
             ],
             [
              0.8888888888888888,
              "#fdca26"
             ],
             [
              1,
              "#f0f921"
             ]
            ],
            "type": "surface"
           }
          ],
          "table": [
           {
            "cells": {
             "fill": {
              "color": "#EBF0F8"
             },
             "line": {
              "color": "white"
             }
            },
            "header": {
             "fill": {
              "color": "#C8D4E3"
             },
             "line": {
              "color": "white"
             }
            },
            "type": "table"
           }
          ]
         },
         "layout": {
          "annotationdefaults": {
           "arrowcolor": "#2a3f5f",
           "arrowhead": 0,
           "arrowwidth": 1
          },
          "autotypenumbers": "strict",
          "coloraxis": {
           "colorbar": {
            "outlinewidth": 0,
            "ticks": ""
           }
          },
          "colorscale": {
           "diverging": [
            [
             0,
             "#8e0152"
            ],
            [
             0.1,
             "#c51b7d"
            ],
            [
             0.2,
             "#de77ae"
            ],
            [
             0.3,
             "#f1b6da"
            ],
            [
             0.4,
             "#fde0ef"
            ],
            [
             0.5,
             "#f7f7f7"
            ],
            [
             0.6,
             "#e6f5d0"
            ],
            [
             0.7,
             "#b8e186"
            ],
            [
             0.8,
             "#7fbc41"
            ],
            [
             0.9,
             "#4d9221"
            ],
            [
             1,
             "#276419"
            ]
           ],
           "sequential": [
            [
             0,
             "#0d0887"
            ],
            [
             0.1111111111111111,
             "#46039f"
            ],
            [
             0.2222222222222222,
             "#7201a8"
            ],
            [
             0.3333333333333333,
             "#9c179e"
            ],
            [
             0.4444444444444444,
             "#bd3786"
            ],
            [
             0.5555555555555556,
             "#d8576b"
            ],
            [
             0.6666666666666666,
             "#ed7953"
            ],
            [
             0.7777777777777778,
             "#fb9f3a"
            ],
            [
             0.8888888888888888,
             "#fdca26"
            ],
            [
             1,
             "#f0f921"
            ]
           ],
           "sequentialminus": [
            [
             0,
             "#0d0887"
            ],
            [
             0.1111111111111111,
             "#46039f"
            ],
            [
             0.2222222222222222,
             "#7201a8"
            ],
            [
             0.3333333333333333,
             "#9c179e"
            ],
            [
             0.4444444444444444,
             "#bd3786"
            ],
            [
             0.5555555555555556,
             "#d8576b"
            ],
            [
             0.6666666666666666,
             "#ed7953"
            ],
            [
             0.7777777777777778,
             "#fb9f3a"
            ],
            [
             0.8888888888888888,
             "#fdca26"
            ],
            [
             1,
             "#f0f921"
            ]
           ]
          },
          "colorway": [
           "#636efa",
           "#EF553B",
           "#00cc96",
           "#ab63fa",
           "#FFA15A",
           "#19d3f3",
           "#FF6692",
           "#B6E880",
           "#FF97FF",
           "#FECB52"
          ],
          "font": {
           "color": "#2a3f5f"
          },
          "geo": {
           "bgcolor": "white",
           "lakecolor": "white",
           "landcolor": "#E5ECF6",
           "showlakes": true,
           "showland": true,
           "subunitcolor": "white"
          },
          "hoverlabel": {
           "align": "left"
          },
          "hovermode": "closest",
          "mapbox": {
           "style": "light"
          },
          "paper_bgcolor": "white",
          "plot_bgcolor": "#E5ECF6",
          "polar": {
           "angularaxis": {
            "gridcolor": "white",
            "linecolor": "white",
            "ticks": ""
           },
           "bgcolor": "#E5ECF6",
           "radialaxis": {
            "gridcolor": "white",
            "linecolor": "white",
            "ticks": ""
           }
          },
          "scene": {
           "xaxis": {
            "backgroundcolor": "#E5ECF6",
            "gridcolor": "white",
            "gridwidth": 2,
            "linecolor": "white",
            "showbackground": true,
            "ticks": "",
            "zerolinecolor": "white"
           },
           "yaxis": {
            "backgroundcolor": "#E5ECF6",
            "gridcolor": "white",
            "gridwidth": 2,
            "linecolor": "white",
            "showbackground": true,
            "ticks": "",
            "zerolinecolor": "white"
           },
           "zaxis": {
            "backgroundcolor": "#E5ECF6",
            "gridcolor": "white",
            "gridwidth": 2,
            "linecolor": "white",
            "showbackground": true,
            "ticks": "",
            "zerolinecolor": "white"
           }
          },
          "shapedefaults": {
           "line": {
            "color": "#2a3f5f"
           }
          },
          "ternary": {
           "aaxis": {
            "gridcolor": "white",
            "linecolor": "white",
            "ticks": ""
           },
           "baxis": {
            "gridcolor": "white",
            "linecolor": "white",
            "ticks": ""
           },
           "bgcolor": "#E5ECF6",
           "caxis": {
            "gridcolor": "white",
            "linecolor": "white",
            "ticks": ""
           }
          },
          "title": {
           "x": 0.05
          },
          "xaxis": {
           "automargin": true,
           "gridcolor": "white",
           "linecolor": "white",
           "ticks": "",
           "title": {
            "standoff": 15
           },
           "zerolinecolor": "white",
           "zerolinewidth": 2
          },
          "yaxis": {
           "automargin": true,
           "gridcolor": "white",
           "linecolor": "white",
           "ticks": "",
           "title": {
            "standoff": 15
           },
           "zerolinecolor": "white",
           "zerolinewidth": 2
          }
         }
        },
        "title": {
         "font": {
          "color": "black",
          "family": "Times New Roman",
          "size": 20
         },
         "text": "XGBoost-SSA: Actual vs Predicted"
        },
        "width": 1200,
        "xaxis": {
         "gridcolor": "lightgray",
         "title": {
          "font": {
           "color": "black",
           "family": "Times New Roman",
           "size": 14
          },
          "text": "Time Step"
         }
        },
        "yaxis": {
         "gridcolor": "lightgray",
         "title": {
          "font": {
           "color": "black",
           "family": "Times New Roman",
           "size": 14
          },
          "text": "Load"
         }
        }
       }
      }
     },
     "metadata": {},
     "output_type": "display_data"
    }
   ],
   "source": [
    "# 1. 可视化损失函数下降趋势 \n",
    "\n",
    "# 可视化预测与实际值\n",
    "TrainlenthToShow = len(train_losses)\n",
    "\n",
    "train_loss_curve = go.Scatter(\n",
    "    x=list(range(TrainlenthToShow)),\n",
    "    y=train_losses[:TrainlenthToShow],\n",
    "    mode='lines+markers',\n",
    "    name='Train',\n",
    "    line=dict(color='#36A2EB', width=3, shape='spline'),\n",
    "    marker=dict(symbol='circle', size=5, color='rgba(0,0,0,0)', line=dict(color='#36A2EB', width=2))\n",
    ")\n",
    "\n",
    "train_loss_fig = go.Figure(data=train_loss_curve)\n",
    "\n",
    "train_loss_fig.update_layout(\n",
    "    title='XGBoost-SSA: Train Loss Curve',\n",
    "    title_font=dict(size=20, family='Times New Roman', color='black'),\n",
    "    xaxis=dict(title='Time Step', title_font=dict(size=14, family='Times New Roman', color='black'), gridcolor='lightgray'),\n",
    "    yaxis=dict(title='Load', title_font=dict(size=14, family='Times New Roman', color='black'), gridcolor='lightgray'),\n",
    "    plot_bgcolor='whitesmoke',\n",
    "    paper_bgcolor='whitesmoke',\n",
    "    font=dict(family='Times New Roman', size=12, color='black'),\n",
    "    legend=dict(x=0.5, y=1.1, xanchor='center', orientation='h', traceorder='normal',\n",
    "                font=dict(family='Times New Roman', size=12, color='black'),\n",
    "                bgcolor='rgba(255, 255, 255, 0.5)', bordercolor='black', borderwidth=1),\n",
    "    showlegend=True\n",
    ")\n",
    "\n",
    "train_loss_fig.update_layout(paper_bgcolor='rgba(240, 240, 240, 0.9)', plot_bgcolor='rgba(255, 255, 255, 0.9)', width=1200, height=600)\n",
    "\n",
    "train_loss_fig.show()\n",
    "\n",
    "#2. 可视化预测与实际值\n",
    "TestlenthToShow = 100\n",
    "\n",
    "actual_trace = go.Scatter(\n",
    "    x=list(range(TestlenthToShow)),\n",
    "    y=y_test_inverse[:TestlenthToShow].flatten(),\n",
    "    mode='lines+markers',\n",
    "    name='Actual',\n",
    "    line=dict(color='#FF6347', width=3, shape='spline'), # spline会进行插值 让它看起来平滑\n",
    "    marker=dict(symbol='circle', size=5, color='rgba(0,0,0,0)', line=dict(color='#FF0000', width=2))\n",
    ")\n",
    "\n",
    "predicted_trace = go.Scatter(\n",
    "    x=list(range(TestlenthToShow)),\n",
    "    y=y_pred_inverse[:TestlenthToShow].flatten(),\n",
    "    mode='lines+markers',\n",
    "    name='Predicted',\n",
    "    line=dict(color='#36A2EB', width=3, dash='dot', shape='spline'),\n",
    "    marker=dict(symbol='x', size=5, color='rgba(0,0,0,0)', line=dict(color='#007bff', width=2))\n",
    ")\n",
    "\n",
    "comparison_fig = go.Figure(data=[actual_trace, predicted_trace])\n",
    "\n",
    "comparison_fig.update_layout(\n",
    "    title='XGBoost-SSA: Actual vs Predicted',\n",
    "    title_font=dict(size=20, family='Times New Roman', color='black'),\n",
    "    xaxis=dict(title='Time Step', title_font=dict(size=14, family='Times New Roman', color='black'), gridcolor='lightgray'),\n",
    "    yaxis=dict(title='Load', title_font=dict(size=14, family='Times New Roman', color='black'), gridcolor='lightgray'),\n",
    "    plot_bgcolor='whitesmoke',\n",
    "    paper_bgcolor='whitesmoke',\n",
    "    font=dict(family='Times New Roman', size=12, color='black'),\n",
    "    legend=dict(x=0.5, y=1.1, xanchor='center', orientation='h', traceorder='normal',\n",
    "                font=dict(family='Times New Roman', size=12, color='black'),\n",
    "                bgcolor='rgba(255, 255, 255, 0.5)', bordercolor='black', borderwidth=1),\n",
    "    showlegend=True\n",
    ")\n",
    "\n",
    "comparison_fig.update_layout(paper_bgcolor='rgba(240, 240, 240, 0.9)', plot_bgcolor='rgba(255, 255, 255, 0.9)', width=1200, height=600)\n",
    "\n",
    "comparison_fig.show()"
   ]
  }
 ],
 "metadata": {
  "kernelspec": {
   "display_name": "pytorch",
   "language": "python",
   "name": "python3"
  },
  "language_info": {
   "codemirror_mode": {
    "name": "ipython",
    "version": 3
   },
   "file_extension": ".py",
   "mimetype": "text/x-python",
   "name": "python",
   "nbconvert_exporter": "python",
   "pygments_lexer": "ipython3",
   "version": "3.8.20"
  }
 },
 "nbformat": 4,
 "nbformat_minor": 2
}
