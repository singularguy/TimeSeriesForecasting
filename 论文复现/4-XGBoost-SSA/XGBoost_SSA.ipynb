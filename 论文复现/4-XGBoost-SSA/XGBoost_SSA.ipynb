{
 "cells": [
  {
   "cell_type": "code",
   "execution_count": 1,
   "metadata": {},
   "outputs": [],
   "source": [
    "import numpy as np\n",
    "import pandas as pd\n",
    "import xgboost as xgb\n",
    "from sklearn.model_selection import train_test_split\n",
    "from sklearn.metrics import mean_squared_error\n",
    "from sklearn.preprocessing import MinMaxScaler\n",
    "from scipy.linalg import hankel\n",
    "import matplotlib.pyplot as plt\n",
    "import plotly.graph_objs as go\n",
    "import plotly.offline as pyo\n",
    "\n",
    "# 定义SSA类,用于时间序列的奇异谱分析\n",
    "class SSA:\n",
    "    def __init__(self, window_size, time_series_length=None):\n",
    "        \"\"\"\n",
    "        初始化SSA类\n",
    "        :param window_size: 窗口大小,用于生成Hankel矩阵\n",
    "        :param time_series_length: 时间序列的长度(可选)\n",
    "        \"\"\"\n",
    "        self.window_size = window_size\n",
    "\n",
    "    def decompose(self, time_series):\n",
    "        \"\"\"\n",
    "        对时间序列进行分解\n",
    "        :param time_series: 输入的时间序列\n",
    "        :return: 奇异值分解的U, s, Vt矩阵\n",
    "        \"\"\"\n",
    "        N = len(time_series)\n",
    "        K = N - self.window_size + 1\n",
    "        # 构造Hankel矩阵\n",
    "        X = hankel(time_series[:K], time_series[K - 1:])\n",
    "        # 对Hankel矩阵进行奇异值分解\n",
    "        U, s, Vt = np.linalg.svd(X, full_matrices=False)\n",
    "        self.U, self.s, self.Vt = U, s, Vt\n",
    "        self.X = X\n",
    "        return U, s, Vt\n",
    "\n",
    "    def reconstruct(self, components):\n",
    "        \"\"\"\n",
    "        根据选定的主成分进行重构\n",
    "        :param components: 选定的主成分索引列表\n",
    "        :return: 重构后的时间序列\n",
    "        \"\"\"\n",
    "        # 重构Hankel矩阵\n",
    "        X_reconstructed = sum(self.s[comp] * np.outer(self.U[:, comp], self.Vt[comp, :]) for comp in components)\n",
    "        # 还原时间序列\n",
    "        trajectory = np.zeros(len(self.X) + self.window_size - 1)\n",
    "        weight = np.zeros(len(self.X) + self.window_size - 1)\n",
    "        for i in range(X_reconstructed.shape[0]):\n",
    "            trajectory[i:i + self.window_size] += X_reconstructed[i, :]\n",
    "            weight[i:i + self.window_size] += 1\n",
    "        return trajectory / weight\n",
    "\n",
    "# 自动选择主成分函数\n",
    "def select_components(s, threshold=0.9):\n",
    "    \"\"\"\n",
    "    根据累积贡献率选择主成分\n",
    "    :param s: 奇异值向量\n",
    "    :param threshold: 累积贡献率的阈值(默认值为0.9)\n",
    "    :return: 选定的主成分索引\n",
    "    \"\"\"\n",
    "    explained_variance = np.cumsum(s**2) / np.sum(s**2)\n",
    "    components = np.where(explained_variance <= threshold)[0]\n",
    "    return components\n",
    "\n",
    "# 特征工程函数\n",
    "def create_features(data, lag, step=1):\n",
    "    \"\"\"\n",
    "    创建特征和目标变量\n",
    "    :param data: 输入的时间序列数据\n",
    "    :param lag: 滞后阶数\n",
    "    :param step: 预测步长(默认值为1)\n",
    "    :return: 特征矩阵X和目标变量y\n",
    "    \"\"\"\n",
    "    X, y = [], []\n",
    "    for i in range(0, len(data) - lag - step + 1, step):\n",
    "        X.append(data[i:i + lag])\n",
    "        y.append(data[i + lag:i + lag + step])\n",
    "    return np.array(X), np.array(y)\n",
    "\n",
    "# 加载并预处理数据\n",
    "data = pd.read_csv('./data/total_load_actual.csv')  # 加载CSV文件\n",
    "if data.isnull().any().any():\n",
    "    data = data.ffill()  # 填充缺失值\n",
    "\n",
    "total_actual_load_list = data['total load actual'].tolist()  # 提取时间序列数据\n",
    "\n",
    "# 数据标准化\n",
    "scaler = MinMaxScaler(feature_range=(0, 1))  # 创建标准化器\n",
    "# 对时间序列数据进行缩放\n",
    "total_actual_load_list_scaled = scaler.fit_transform(np.array(total_actual_load_list).reshape(-1, 1)).flatten()\n",
    "time_series = total_actual_load_list_scaled\n",
    "\n",
    "# SSA分解和重构\n",
    "window_size = 8  # 设置窗口大小\n",
    "ssa = SSA(window_size, time_series_length=len(time_series))\n",
    "U, s, Vt = ssa.decompose(time_series)  # 分解时间序列\n",
    "\n",
    "components = select_components(s, threshold=0.99)  # 自动选择主成分\n",
    "reconstructed_series = ssa.reconstruct(components)  # 使用选定主成分重构时间序列\n",
    "\n",
    "# 创建特征和目标变量\n",
    "lag = 20  # 滞后阶数\n",
    "X, y = create_features(reconstructed_series, lag)  # 生成特征矩阵和目标变量\n",
    "\n",
    "# 划分训练集和测试集\n",
    "X_train, X_test, y_train, y_test = train_test_split(X, y, test_size=0.2, random_state=42)  # 按8:2划分数据\n",
    "\n",
    "# 特征和目标变量的标准化\n",
    "scaler_X = MinMaxScaler()  # 创建特征标准化器\n",
    "scaler_y = MinMaxScaler()  # 创建目标变量标准化器\n",
    "\n",
    "X_train_scaled = scaler_X.fit_transform(X_train)  # 标准化训练特征\n",
    "X_test_scaled = scaler_X.transform(X_test)  # 标准化测试特征\n",
    "\n",
    "y_train_scaled = scaler_y.fit_transform(y_train)  # 标准化训练目标变量\n",
    "y_test_scaled = scaler_y.transform(y_test)  # 标准化测试目标变量\n",
    "\n",
    "# 使用xgb.train()方法训练模型\n",
    "dtrain = xgb.DMatrix(X_train_scaled, label=y_train_scaled.ravel())  # 创建训练数据矩阵\n",
    "dtest = xgb.DMatrix(X_test_scaled, label=y_test_scaled.ravel())  # 创建测试数据矩阵\n",
    "\n",
    "params = {\n",
    "    'objective': 'reg:squarederror',  # 回归目标\n",
    "    'max_depth': 3,  # 树的最大深度\n",
    "    'learning_rate': 0.1,  # 学习率\n",
    "    'random_state': 42,  # 随机种子\n",
    "    'eval_metric': 'rmse'  # 评估指标为RMSE\n",
    "}\n",
    "\n",
    "num_boost_round = 100  # 设置迭代次数\n",
    "\n",
    "evals_result = {}  # 存储评估结果\n",
    "model = xgb.train(params, dtrain, num_boost_round,\n",
    "                  evals=[(dtrain, 'train'), (dtest, 'test')],\n",
    "                  evals_result=evals_result,\n",
    "                  verbose_eval=False)  # 训练模型\n",
    "\n",
    "train_losses = evals_result['train']['rmse']  # 提取训练集上的RMSE\n"
   ]
  },
  {
   "cell_type": "code",
   "execution_count": 2,
   "metadata": {},
   "outputs": [
    {
     "data": {
      "image/png": "[encoded data removed]",
      "text/plain": [
       "<Figure size 640x480 with 1 Axes>"
      ]
     },
     "metadata": {},
     "output_type": "display_data"
    }
   ],
   "source": [
    "# 绘制特征重要性\n",
    "xgb.plot_importance(model, importance_type='weight', max_num_features=10)\n",
    "plt.show()"
   ]
  },
  {
   "cell_type": "code",
   "execution_count": 3,
   "metadata": {},
   "outputs": [
    {
     "name": "stdout",
     "output_type": "stream",
     "text": [
      "+----------------------+-----------------------+----------------------+-----------------------+\n",
      "|   Metrics            |   Original Scale      |   Normalized Scale   |\n",
      "+----------------------+-----------------------+----------------------+-----------------------+\n",
      "| MSE                  |         44460.508144 |             0.000112 |\n",
      "| MAE                  |           160.905293 |             0.008085 |\n",
      "| MAPE                 |             0.570705 |             2.210392 |\n",
      "| RMSE                 |           210.856606 |             0.010595 |\n",
      "| R²                   |             0.996299 |             0.996299 |\n",
      "| SMAPE                |             0.005709 |             0.021690 |\n",
      "+----------------------+-----------------------+----------------------+-----------------------+\n"
     ]
    }
   ],
   "source": [
    "\n",
    "# 进行预测\n",
    "y_pred_scaled = model.predict(dtest)\n",
    "\n",
    "# 反标准化预测值和真实值\n",
    "y_pred = scaler_y.inverse_transform(y_pred_scaled.reshape(-1, 1)).flatten()\n",
    "y_test_true = scaler_y.inverse_transform(y_test_scaled).flatten()\n",
    "\n",
    "# 由于进行了两次标准化,需要对预测值和真实值进行两次反向转换\n",
    "y_pred_inverse = scaler.inverse_transform(y_pred.reshape(-1, 1)).flatten()\n",
    "y_test_inverse = scaler.inverse_transform(y_test_true.reshape(-1, 1)).flatten()\n",
    "\n",
    "# 计算指标\n",
    "def calculate_metrics(y_true, y_pred):\n",
    "    mse = mean_squared_error(y_true, y_pred)\n",
    "    mae = np.mean(np.abs(y_true - y_pred))\n",
    "    mape = np.mean(np.abs((y_true - y_pred) / y_true)) * 100\n",
    "    rmse = np.sqrt(mse)\n",
    "    r2 = 1 - (np.sum((y_true - y_pred) ** 2) / np.sum((y_true - np.mean(y_true)) ** 2))\n",
    "    smape = np.mean(2 * np.abs(y_true - y_pred) / (np.abs(y_true) + np.abs(y_pred)))\n",
    "    return mse, mae, mape, rmse, r2, smape\n",
    "\n",
    "# 计算归一化尺度的指标\n",
    "mse_normalized, mae_normalized, mape_normalized, rmse_normalized, r2_normalized, smape_normalized = calculate_metrics(y_test_scaled.flatten(), y_pred_scaled)\n",
    "\n",
    "# 计算原始尺度的指标\n",
    "mse_original, mae_original, mape_original, rmse_original, r2_original, smape_original = calculate_metrics(y_test_inverse, y_pred_inverse)\n",
    "\n",
    "# 打印指标表格\n",
    "print('+----------------------+-----------------------+----------------------+-----------------------+')\n",
    "print('|   Metrics            |   Original Scale      |   Normalized Scale   |')\n",
    "print('+----------------------+-----------------------+----------------------+-----------------------+')\n",
    "metrics = [\n",
    "    ('MSE', mse_original, mse_normalized),\n",
    "    ('MAE', mae_original, mae_normalized),\n",
    "    ('MAPE', mape_original, mape_normalized),\n",
    "    ('RMSE', rmse_original, rmse_normalized),\n",
    "    ('R²', r2_original, r2_normalized),\n",
    "    ('SMAPE', smape_original, smape_normalized)\n",
    "]\n",
    "\n",
    "for metric, original_value, normalized_value in metrics:\n",
    "    print(f'| {metric:<20} | {original_value:>20.6f} | {normalized_value:>20.6f} |')\n",
    "\n",
    "print('+----------------------+-----------------------+----------------------+-----------------------+')\n"
   ]
  },
  {
   "cell_type": "code",
   "execution_count": 4,
   "metadata": {},
   "outputs": [
    {
     "data": {
      "application/vnd.plotly.v1+json": {
       "config": {
        "plotlyServerURL": "https://plot.ly"
       },
       "data": [
        {
         "line": {
          "color": "#36A2EB",
          "shape": "spline",
          "width": 3
         },
         "marker": {
          "color": "rgba(0,0,0,0)",
          "line": {
           "color": "#36A2EB",
           "width": 2
          },
          "size": 5,
          "symbol": "circle"
         },
         "mode": "lines+markers",
         "name": "Train",
         "type": "scatter",
         "x": [
          0,
          1,
          2,
          3,
          4,
          5,
          6,
          7,
          8,
          9,
          10,
          11,
          12,
          13,
          14,
          15,
          16,
          17,
          18,
          19,
          20,
          21,
          22,
          23,
          24,
          25,
          26,
          27,
          28,
          29,
          30,
          31,
          32,
          33,
          34,
          35,
          36,
          37,
          38,
          39,
          40,
          41,
          42,
          43,
          44,
          45,
          46,
          47,
          48,
          49,
          50,
          51,
          52,
          53,
          54,
          55,
          56,
          57,
          58,
          59,
          60,
          61,
          62,
          63,
          64,
          65,
          66,
          67,
          68,
          69,
          70,
          71,
          72,
          73,
          74,
          75,
          76,
          77,
          78,
          79,
          80,
          81,
          82,
          83,
          84,
          85,
          86,
          87,
          88,
          89,
          90,
          91,
          92,
          93,
          94,
          95,
          96,
          97,
          98,
          99
         ],
         "y": [
          0.15927712896361018,
          0.1444334556796699,
          0.13107166740275739,
          0.11912069075043503,
          0.10839480238278175,
          0.09874150474368051,
          0.090117554159749,
          0.08239453437613846,
          0.07544438225120184,
          0.0691713356807253,
          0.06356611879675482,
          0.05849215521465111,
          0.0539376971898513,
          0.04992579923588172,
          0.04619937444940876,
          0.04288543568223326,
          0.03996834144534548,
          0.03729186334937756,
          0.03494076749889929,
          0.03280103622775889,
          0.03091794180494632,
          0.02928122416593575,
          0.02771277636021631,
          0.02637060003089264,
          0.02512405756342884,
          0.02409303712863421,
          0.02312817785697563,
          0.02221384583295321,
          0.02140637327189148,
          0.02074317303600039,
          0.020057368611535,
          0.01950282881054103,
          0.0189728291887075,
          0.01848942359269683,
          0.01809091798338319,
          0.01767055036885909,
          0.01731657524890303,
          0.01696455749827311,
          0.01667550449176516,
          0.01639546932188407,
          0.01613347844312353,
          0.01590916760218406,
          0.01568543175251196,
          0.01545919671253052,
          0.01526473423266031,
          0.01502298632994053,
          0.01481644554682226,
          0.01469829461148543,
          0.01449521257571439,
          0.01439039903197278,
          0.01427467901314277,
          0.01412580629209541,
          0.01400630904805434,
          0.01385867931735398,
          0.01374361840093158,
          0.01359135032560297,
          0.0134544346529421,
          0.01330170662744044,
          0.01322321916363697,
          0.0131020296765053,
          0.01303767514080688,
          0.01296725850930831,
          0.0128859873176596,
          0.0127630174835862,
          0.01265473698088185,
          0.01260227961391059,
          0.01252653778053513,
          0.01243273489247972,
          0.01238487234866731,
          0.01234452131474488,
          0.01225223149567851,
          0.01220029012368753,
          0.01213612038984863,
          0.01209137666060546,
          0.01199896205227161,
          0.01193063082278969,
          0.0118569175430243,
          0.01173999047182902,
          0.01165575489426876,
          0.01162101886979883,
          0.01153431222287235,
          0.01144523137133956,
          0.01141698238260415,
          0.01134108774272682,
          0.01128417199987598,
          0.01124446417012615,
          0.01121229217060524,
          0.01115964179345525,
          0.0111190003322087,
          0.01103234102409339,
          0.01098440962382852,
          0.01093134452030564,
          0.01087920778512466,
          0.01079780310619555,
          0.0107145570256638,
          0.01065941503833375,
          0.0106242668885902,
          0.01055690337970984,
          0.01050046704248725,
          0.01044022846481335
         ]
        }
       ],
       "layout": {
        "font": {
         "color": "black",
         "family": "Times New Roman",
         "size": 12
        },
        "height": 600,
        "legend": {
         "bgcolor": "rgba(255, 255, 255, 0.5)",
         "bordercolor": "black",
         "borderwidth": 1,
         "font": {
          "color": "black",
          "family": "Times New Roman",
          "size": 12
         },
         "orientation": "h",
         "traceorder": "normal",
         "x": 0.5,
         "xanchor": "center",
         "y": 1.1
        },
        "paper_bgcolor": "rgba(240, 240, 240, 0.9)",
        "plot_bgcolor": "rgba(255, 255, 255, 0.9)",
        "showlegend": true,
        "template": {
         "data": {
          "bar": [
           {
            "error_x": {
             "color": "#2a3f5f"
            },
            "error_y": {
             "color": "#2a3f5f"
            },
            "marker": {
             "line": {
              "color": "#E5ECF6",
              "width": 0.5
             },
             "pattern": {
              "fillmode": "overlay",
              "size": 10,
              "solidity": 0.2
             }
            },
            "type": "bar"
           }
          ],
          "barpolar": [
           {
            "marker": {
             "line": {
              "color": "#E5ECF6",
              "width": 0.5
             },
             "pattern": {
              "fillmode": "overlay",
              "size": 10,
              "solidity": 0.2
             }
            },
            "type": "barpolar"
           }
          ],
          "carpet": [
           {
            "aaxis": {
             "endlinecolor": "#2a3f5f",
             "gridcolor": "white",
             "linecolor": "white",
             "minorgridcolor": "white",
             "startlinecolor": "#2a3f5f"
            },
            "baxis": {
             "endlinecolor": "#2a3f5f",
             "gridcolor": "white",
             "linecolor": "white",
             "minorgridcolor": "white",
             "startlinecolor": "#2a3f5f"
            },
            "type": "carpet"
           }
          ],
          "choropleth": [
           {
            "colorbar": {
             "outlinewidth": 0,
             "ticks": ""
            },
            "type": "choropleth"
           }
          ],
          "contour": [
           {
            "colorbar": {
             "outlinewidth": 0,
             "ticks": ""
            },
            "colorscale": [
             [
              0,
              "#0d0887"
             ],
             [
              0.1111111111111111,
              "#46039f"
             ],
             [
              0.2222222222222222,
              "#7201a8"
             ],
             [
              0.3333333333333333,
              "#9c179e"
             ],
             [
              0.4444444444444444,
              "#bd3786"
             ],
             [
              0.5555555555555556,
              "#d8576b"
             ],
             [
              0.6666666666666666,
              "#ed7953"
             ],
             [
              0.7777777777777778,
              "#fb9f3a"
             ],
             [
              0.8888888888888888,
              "#fdca26"
             ],
             [
              1,
              "#f0f921"
             ]
            ],
            "type": "contour"
           }
          ],
          "contourcarpet": [
           {
            "colorbar": {
             "outlinewidth": 0,
             "ticks": ""
            },
            "type": "contourcarpet"
           }
          ],
          "heatmap": [
           {
            "colorbar": {
             "outlinewidth": 0,
             "ticks": ""
            },
            "colorscale": [
             [
              0,
              "#0d0887"
             ],
             [
              0.1111111111111111,
              "#46039f"
             ],
             [
              0.2222222222222222,
              "#7201a8"
             ],
             [
              0.3333333333333333,
              "#9c179e"
             ],
             [
              0.4444444444444444,
              "#bd3786"
             ],
             [
              0.5555555555555556,
              "#d8576b"
             ],
             [
              0.6666666666666666,
              "#ed7953"
             ],
             [
              0.7777777777777778,
              "#fb9f3a"
             ],
             [
              0.8888888888888888,
              "#fdca26"
             ],
             [
              1,
              "#f0f921"
             ]
            ],
            "type": "heatmap"
           }
          ],
          "heatmapgl": [
           {
            "colorbar": {
             "outlinewidth": 0,
             "ticks": ""
            },
            "colorscale": [
             [
              0,
              "#0d0887"
             ],
             [
              0.1111111111111111,
              "#46039f"
             ],
             [
              0.2222222222222222,
              "#7201a8"
             ],
             [
              0.3333333333333333,
              "#9c179e"
             ],
             [
              0.4444444444444444,
              "#bd3786"
             ],
             [
              0.5555555555555556,
              "#d8576b"
             ],
             [
              0.6666666666666666,
              "#ed7953"
             ],
             [
              0.7777777777777778,
              "#fb9f3a"
             ],
             [
              0.8888888888888888,
              "#fdca26"
             ],
             [
              1,
              "#f0f921"
             ]
            ],
            "type": "heatmapgl"
           }
          ],
          "histogram": [
           {
            "marker": {
             "pattern": {
              "fillmode": "overlay",
              "size": 10,
              "solidity": 0.2
             }
            },
            "type": "histogram"
           }
          ],
          "histogram2d": [
           {
            "colorbar": {
             "outlinewidth": 0,
             "ticks": ""
            },
            "colorscale": [
             [
              0,
              "#0d0887"
             ],
             [
              0.1111111111111111,
              "#46039f"
             ],
             [
              0.2222222222222222,
              "#7201a8"
             ],
             [
              0.3333333333333333,
              "#9c179e"
             ],
             [
              0.4444444444444444,
              "#bd3786"
             ],
             [
              0.5555555555555556,
              "#d8576b"
             ],
             [
              0.6666666666666666,
              "#ed7953"
             ],
             [
              0.7777777777777778,
              "#fb9f3a"
             ],
             [
              0.8888888888888888,
              "#fdca26"
             ],
             [
              1,
              "#f0f921"
             ]
            ],
            "type": "histogram2d"
           }
          ],
          "histogram2dcontour": [
           {
            "colorbar": {
             "outlinewidth": 0,
             "ticks": ""
            },
            "colorscale": [
             [
              0,
              "#0d0887"
             ],
             [
              0.1111111111111111,
              "#46039f"
             ],
             [
              0.2222222222222222,
              "#7201a8"
             ],
             [
              0.3333333333333333,
              "#9c179e"
             ],
             [
              0.4444444444444444,
              "#bd3786"
             ],
             [
              0.5555555555555556,
              "#d8576b"
             ],
             [
              0.6666666666666666,
              "#ed7953"
             ],
             [
              0.7777777777777778,
              "#fb9f3a"
             ],
             [
              0.8888888888888888,
              "#fdca26"
             ],
             [
              1,
              "#f0f921"
             ]
            ],
            "type": "histogram2dcontour"
           }
          ],
          "mesh3d": [
           {
            "colorbar": {
             "outlinewidth": 0,
             "ticks": ""
            },
            "type": "mesh3d"
           }
          ],
          "parcoords": [
           {
            "line": {
             "colorbar": {
              "outlinewidth": 0,
              "ticks": ""
             }
            },
            "type": "parcoords"
           }
          ],
          "pie": [
           {
            "automargin": true,
            "type": "pie"
           }
          ],
          "scatter": [
           {
            "fillpattern": {
             "fillmode": "overlay",
             "size": 10,
             "solidity": 0.2
            },
            "type": "scatter"
           }
          ],
          "scatter3d": [
           {
            "line": {
             "colorbar": {
              "outlinewidth": 0,
              "ticks": ""
             }
            },
            "marker": {
             "colorbar": {
              "outlinewidth": 0,
              "ticks": ""
             }
            },
            "type": "scatter3d"
           }
          ],
          "scattercarpet": [
           {
            "marker": {
             "colorbar": {
              "outlinewidth": 0,
              "ticks": ""
             }
            },
            "type": "scattercarpet"
           }
          ],
          "scattergeo": [
           {
            "marker": {
             "colorbar": {
              "outlinewidth": 0,
              "ticks": ""
             }
            },
            "type": "scattergeo"
           }
          ],
          "scattergl": [
           {
            "marker": {
             "colorbar": {
              "outlinewidth": 0,
              "ticks": ""
             }
            },
            "type": "scattergl"
           }
          ],
          "scattermapbox": [
           {
            "marker": {
             "colorbar": {
              "outlinewidth": 0,
              "ticks": ""
             }
            },
            "type": "scattermapbox"
           }
          ],
          "scatterpolar": [
           {
            "marker": {
             "colorbar": {
              "outlinewidth": 0,
              "ticks": ""
             }
            },
            "type": "scatterpolar"
           }
          ],
          "scatterpolargl": [
           {
            "marker": {
             "colorbar": {
              "outlinewidth": 0,
              "ticks": ""
             }
            },
            "type": "scatterpolargl"
           }
          ],
          "scatterternary": [
           {
            "marker": {
             "colorbar": {
              "outlinewidth": 0,
              "ticks": ""
             }
            },
            "type": "scatterternary"
           }
          ],
          "surface": [
           {
            "colorbar": {
             "outlinewidth": 0,
             "ticks": ""
            },
            "colorscale": [
             [
              0,
              "#0d0887"
             ],
             [
              0.1111111111111111,
              "#46039f"
             ],
             [
              0.2222222222222222,
              "#7201a8"
             ],
             [
              0.3333333333333333,
              "#9c179e"
             ],
             [
              0.4444444444444444,
              "#bd3786"
             ],
             [
              0.5555555555555556,
              "#d8576b"
             ],
             [
              0.6666666666666666,
              "#ed7953"
             ],
             [
              0.7777777777777778,
              "#fb9f3a"
             ],
             [
              0.8888888888888888,
              "#fdca26"
             ],
             [
              1,
              "#f0f921"
             ]
            ],
            "type": "surface"
           }
          ],
          "table": [
           {
            "cells": {
             "fill": {
              "color": "#EBF0F8"
             },
             "line": {
              "color": "white"
             }
            },
            "header": {
             "fill": {
              "color": "#C8D4E3"
             },
             "line": {
              "color": "white"
             }
            },
            "type": "table"
           }
          ]
         },
         "layout": {
          "annotationdefaults": {
           "arrowcolor": "#2a3f5f",
           "arrowhead": 0,
           "arrowwidth": 1
          },
          "autotypenumbers": "strict",
          "coloraxis": {
           "colorbar": {
            "outlinewidth": 0,
            "ticks": ""
           }
          },
          "colorscale": {
           "diverging": [
            [
             0,
             "#8e0152"
            ],
            [
             0.1,
             "#c51b7d"
            ],
            [
             0.2,
             "#de77ae"
            ],
            [
             0.3,
             "#f1b6da"
            ],
            [
             0.4,
             "#fde0ef"
            ],
            [
             0.5,
             "#f7f7f7"
            ],
            [
             0.6,
             "#e6f5d0"
            ],
            [
             0.7,
             "#b8e186"
            ],
            [
             0.8,
             "#7fbc41"
            ],
            [
             0.9,
             "#4d9221"
            ],
            [
             1,
             "#276419"
            ]
           ],
           "sequential": [
            [
             0,
             "#0d0887"
            ],
            [
             0.1111111111111111,
             "#46039f"
            ],
            [
             0.2222222222222222,
             "#7201a8"
            ],
            [
             0.3333333333333333,
             "#9c179e"
            ],
            [
             0.4444444444444444,
             "#bd3786"
            ],
            [
             0.5555555555555556,
             "#d8576b"
            ],
            [
             0.6666666666666666,
             "#ed7953"
            ],
            [
             0.7777777777777778,
             "#fb9f3a"
            ],
            [
             0.8888888888888888,
             "#fdca26"
            ],
            [
             1,
             "#f0f921"
            ]
           ],
           "sequentialminus": [
            [
             0,
             "#0d0887"
            ],
            [
             0.1111111111111111,
             "#46039f"
            ],
            [
             0.2222222222222222,
             "#7201a8"
            ],
            [
             0.3333333333333333,
             "#9c179e"
            ],
            [
             0.4444444444444444,
             "#bd3786"
            ],
            [
             0.5555555555555556,
             "#d8576b"
            ],
            [
             0.6666666666666666,
             "#ed7953"
            ],
            [
             0.7777777777777778,
             "#fb9f3a"
            ],
            [
             0.8888888888888888,
             "#fdca26"
            ],
            [
             1,
             "#f0f921"
            ]
           ]
          },
          "colorway": [
           "#636efa",
           "#EF553B",
           "#00cc96",
           "#ab63fa",
           "#FFA15A",
           "#19d3f3",
           "#FF6692",
           "#B6E880",
           "#FF97FF",
           "#FECB52"
          ],
          "font": {
           "color": "#2a3f5f"
          },
          "geo": {
           "bgcolor": "white",
           "lakecolor": "white",
           "landcolor": "#E5ECF6",
           "showlakes": true,
           "showland": true,
           "subunitcolor": "white"
          },
          "hoverlabel": {
           "align": "left"
          },
          "hovermode": "closest",
          "mapbox": {
           "style": "light"
          },
          "paper_bgcolor": "white",
          "plot_bgcolor": "#E5ECF6",
          "polar": {
           "angularaxis": {
            "gridcolor": "white",
            "linecolor": "white",
            "ticks": ""
           },
           "bgcolor": "#E5ECF6",
           "radialaxis": {
            "gridcolor": "white",
            "linecolor": "white",
            "ticks": ""
           }
          },
          "scene": {
           "xaxis": {
            "backgroundcolor": "#E5ECF6",
            "gridcolor": "white",
            "gridwidth": 2,
            "linecolor": "white",
            "showbackground": true,
            "ticks": "",
            "zerolinecolor": "white"
           },
           "yaxis": {
            "backgroundcolor": "#E5ECF6",
            "gridcolor": "white",
            "gridwidth": 2,
            "linecolor": "white",
            "showbackground": true,
            "ticks": "",
            "zerolinecolor": "white"
           },
           "zaxis": {
            "backgroundcolor": "#E5ECF6",
            "gridcolor": "white",
            "gridwidth": 2,
            "linecolor": "white",
            "showbackground": true,
            "ticks": "",
            "zerolinecolor": "white"
           }
          },
          "shapedefaults": {
           "line": {
            "color": "#2a3f5f"
           }
          },
          "ternary": {
           "aaxis": {
            "gridcolor": "white",
            "linecolor": "white",
            "ticks": ""
           },
           "baxis": {
            "gridcolor": "white",
            "linecolor": "white",
            "ticks": ""
           },
           "bgcolor": "#E5ECF6",
           "caxis": {
            "gridcolor": "white",
            "linecolor": "white",
            "ticks": ""
           }
          },
          "title": {
           "x": 0.05
          },
          "xaxis": {
           "automargin": true,
           "gridcolor": "white",
           "linecolor": "white",
           "ticks": "",
           "title": {
            "standoff": 15
           },
           "zerolinecolor": "white",
           "zerolinewidth": 2
          },
          "yaxis": {
           "automargin": true,
           "gridcolor": "white",
           "linecolor": "white",
           "ticks": "",
           "title": {
            "standoff": 15
           },
           "zerolinecolor": "white",
           "zerolinewidth": 2
          }
         }
        },
        "title": {
         "font": {
          "color": "black",
          "family": "Times New Roman",
          "size": 20
         },
         "text": "XGBoost-SSA: Train Loss Curve"
        },
        "width": 1200,
        "xaxis": {
         "gridcolor": "lightgray",
         "title": {
          "font": {
           "color": "black",
           "family": "Times New Roman",
           "size": 14
          },
          "text": "Time Step"
         }
        },
        "yaxis": {
         "gridcolor": "lightgray",
         "title": {
          "font": {
           "color": "black",
           "family": "Times New Roman",
           "size": 14
          },
          "text": "Load"
         }
        }
       }
      }
     },
     "metadata": {},
     "output_type": "display_data"
    },
    {
     "data": {
      "application/vnd.plotly.v1+json": {
       "config": {
        "plotlyServerURL": "https://plot.ly"
       },
       "data": [
        {
         "line": {
          "color": "#FF6347",
          "shape": "spline",
          "width": 3
         },
         "marker": {
          "color": "rgba(0,0,0,0)",
          "line": {
           "color": "#FF0000",
           "width": 2
          },
          "size": 5,
          "symbol": "circle"
         },
         "mode": "lines+markers",
         "name": "Actual",
         "type": "scatter",
         "x": [
          0,
          1,
          2,
          3,
          4,
          5,
          6,
          7,
          8,
          9,
          10,
          11,
          12,
          13,
          14,
          15,
          16,
          17,
          18,
          19,
          20,
          21,
          22,
          23,
          24,
          25,
          26,
          27,
          28,
          29,
          30,
          31,
          32,
          33,
          34,
          35,
          36,
          37,
          38,
          39,
          40,
          41,
          42,
          43,
          44,
          45,
          46,
          47,
          48,
          49,
          50,
          51,
          52,
          53,
          54,
          55,
          56,
          57,
          58,
          59,
          60,
          61,
          62,
          63,
          64,
          65,
          66,
          67,
          68,
          69,
          70,
          71,
          72,
          73,
          74,
          75,
          76,
          77,
          78,
          79,
          80,
          81,
          82,
          83,
          84,
          85,
          86,
          87,
          88,
          89,
          90,
          91,
          92,
          93,
          94,
          95,
          96,
          97,
          98,
          99
         ],
         "y": [
          23970.886281720523,
          27801.983952923663,
          24747.53393096379,
          35116.87774143232,
          32655.606434077614,
          25186.637726456258,
          30492.301733531327,
          34433.467299830394,
          26061.99704712733,
          24189.46032475574,
          33546.38623124971,
          27234.8227418553,
          26696.196251825404,
          24826.9274102746,
          23592.201349998133,
          29465.669932344408,
          26102.356714432943,
          32845.84556446853,
          33873.92237154721,
          28198.801609678896,
          27478.19027419046,
          29383.858780772942,
          28615.32074845863,
          32583.05016861271,
          30523.51826114941,
          27739.996783076243,
          36797.28426801981,
          32069.347474925573,
          24934.600850417573,
          26818.803246684354,
          26646.743513883484,
          29957.36296669379,
          26584.572408870743,
          22565.97229198682,
          27498.742017504126,
          30980.87437885425,
          24631.762074413964,
          25040.61157122234,
          31541.518923576223,
          29432.981648915742,
          31062.48157571575,
          25186.27816567358,
          25414.368896334316,
          38165.460998706614,
          24080.695831114735,
          28197.506305957013,
          24310.778276887348,
          21366.1463398536,
          32397.202633974295,
          26976.903476065683,
          24794.13691206724,
          33478.81927353837,
          30762.377678409914,
          25866.542806468413,
          23985.965184175435,
          27847.765920978403,
          25188.556014816582,
          29256.83590321927,
          30615.446952565682,
          27034.21008555129,
          32717.579041908004,
          27576.652298877456,
          29875.011521495024,
          31060.008643856097,
          27197.92866448788,
          25467.77419385266,
          24561.97597666149,
          33674.47810415724,
          32677.34193319009,
          32712.65634359247,
          30130.313356976272,
          25367.59883817836,
          23571.25772752968,
          23623.12467410724,
          30780.291679314178,
          25851.13718639479,
          35106.486946412115,
          26069.954567895984,
          29866.9722528528,
          25895.058542325907,
          33703.168075754,
          26935.937736349868,
          28209.634356633585,
          33323.41180105565,
          30846.011601222457,
          31462.33325656327,
          24910.604733039505,
          29587.763719207924,
          32918.40055768357,
          27877.103989075487,
          27408.563963572444,
          28779.569777240926,
          25012.385547870446,
          36165.60597801408,
          27274.02434560754,
          30068.943123347417,
          30510.086358931523,
          31968.26056553872,
          23302.412922327363,
          28708.42308549498
         ]
        },
        {
         "line": {
          "color": "#36A2EB",
          "dash": "dot",
          "shape": "spline",
          "width": 3
         },
         "marker": {
          "color": "rgba(0,0,0,0)",
          "line": {
           "color": "#007bff",
           "width": 2
          },
          "size": 5,
          "symbol": "x"
         },
         "mode": "lines+markers",
         "name": "Predicted",
         "type": "scatter",
         "x": [
          0,
          1,
          2,
          3,
          4,
          5,
          6,
          7,
          8,
          9,
          10,
          11,
          12,
          13,
          14,
          15,
          16,
          17,
          18,
          19,
          20,
          21,
          22,
          23,
          24,
          25,
          26,
          27,
          28,
          29,
          30,
          31,
          32,
          33,
          34,
          35,
          36,
          37,
          38,
          39,
          40,
          41,
          42,
          43,
          44,
          45,
          46,
          47,
          48,
          49,
          50,
          51,
          52,
          53,
          54,
          55,
          56,
          57,
          58,
          59,
          60,
          61,
          62,
          63,
          64,
          65,
          66,
          67,
          68,
          69,
          70,
          71,
          72,
          73,
          74,
          75,
          76,
          77,
          78,
          79,
          80,
          81,
          82,
          83,
          84,
          85,
          86,
          87,
          88,
          89,
          90,
          91,
          92,
          93,
          94,
          95,
          96,
          97,
          98,
          99
         ],
         "y": [
          24231.53515625,
          27500.46484375,
          24436.19921875,
          35009.1875,
          32599.416015625,
          25083.91015625,
          30676.41796875,
          33867.5546875,
          25991.15625,
          24278.8359375,
          33525.80078125,
          27302.06640625,
          26778.890625,
          25056.7421875,
          23675.255859375,
          29677.08984375,
          25974.9453125,
          32278.912109375,
          34035.81640625,
          28381.98828125,
          27605.494140625,
          29358.646484375,
          28449.072265625,
          32013.56640625,
          30344.708984375,
          27868.662109375,
          36534.09765625,
          32011.26171875,
          24802.73828125,
          26870.109375,
          26502.79296875,
          29879.525390625,
          26649.900390625,
          22899.470703125,
          27498.33203125,
          30922.306640625,
          24558.119140625,
          24975.21484375,
          31758.41796875,
          29772.619140625,
          31183.29296875,
          25200.244140625,
          25499.78515625,
          37949.76171875,
          24520.08984375,
          28169.890625,
          24359.66796875,
          21511.84375,
          32204.046875,
          27054.87109375,
          24751.1953125,
          33197.734375,
          30805.64453125,
          26061.947265625,
          24111.08203125,
          27722.44921875,
          25283.443359375,
          29493.076171875,
          30557.140625,
          26897.666015625,
          32109.37109375,
          27465.4921875,
          29294.2890625,
          30990.876953125,
          27113.15625,
          25334.384765625,
          24465.935546875,
          33441.75390625,
          32746.599609375,
          32874.87109375,
          30246.345703125,
          25629.259765625,
          23328.173828125,
          23629.41796875,
          30874.599609375,
          25889.431640625,
          35268.84765625,
          25698.330078125,
          29948.6953125,
          25964.001953125,
          33882.66796875,
          26386.81640625,
          28129.009765625,
          33347.78125,
          31028.716796875,
          31279.76953125,
          25047.580078125,
          29561.37109375,
          32764.728515625,
          27932.5,
          27684.83203125,
          28833.15234375,
          25158.951171875,
          35663.59765625,
          26805.5625,
          30097.78125,
          30485.984375,
          32032.16796875,
          23470.263671875,
          28647.208984375
         ]
        }
       ],
       "layout": {
        "font": {
         "color": "black",
         "family": "Times New Roman",
         "size": 12
        },
        "height": 600,
        "legend": {
         "bgcolor": "rgba(255, 255, 255, 0.5)",
         "bordercolor": "black",
         "borderwidth": 1,
         "font": {
          "color": "black",
          "family": "Times New Roman",
          "size": 12
         },
         "orientation": "h",
         "traceorder": "normal",
         "x": 0.5,
         "xanchor": "center",
         "y": 1.1
        },
        "paper_bgcolor": "rgba(240, 240, 240, 0.9)",
        "plot_bgcolor": "rgba(255, 255, 255, 0.9)",
        "showlegend": true,
        "template": {
         "data": {
          "bar": [
           {
            "error_x": {
             "color": "#2a3f5f"
            },
            "error_y": {
             "color": "#2a3f5f"
            },
            "marker": {
             "line": {
              "color": "#E5ECF6",
              "width": 0.5
             },
             "pattern": {
              "fillmode": "overlay",
              "size": 10,
              "solidity": 0.2
             }
            },
            "type": "bar"
           }
          ],
          "barpolar": [
           {
            "marker": {
             "line": {
              "color": "#E5ECF6",
              "width": 0.5
             },
             "pattern": {
              "fillmode": "overlay",
              "size": 10,
              "solidity": 0.2
             }
            },
            "type": "barpolar"
           }
          ],
          "carpet": [
           {
            "aaxis": {
             "endlinecolor": "#2a3f5f",
             "gridcolor": "white",
             "linecolor": "white",
             "minorgridcolor": "white",
             "startlinecolor": "#2a3f5f"
            },
            "baxis": {
             "endlinecolor": "#2a3f5f",
             "gridcolor": "white",
             "linecolor": "white",
             "minorgridcolor": "white",
             "startlinecolor": "#2a3f5f"
            },
            "type": "carpet"
           }
          ],
          "choropleth": [
           {
            "colorbar": {
             "outlinewidth": 0,
             "ticks": ""
            },
            "type": "choropleth"
           }
          ],
          "contour": [
           {
            "colorbar": {
             "outlinewidth": 0,
             "ticks": ""
            },
            "colorscale": [
             [
              0,
              "#0d0887"
             ],
             [
              0.1111111111111111,
              "#46039f"
             ],
             [
              0.2222222222222222,
              "#7201a8"
             ],
             [
              0.3333333333333333,
              "#9c179e"
             ],
             [
              0.4444444444444444,
              "#bd3786"
             ],
             [
              0.5555555555555556,
              "#d8576b"
             ],
             [
              0.6666666666666666,
              "#ed7953"
             ],
             [
              0.7777777777777778,
              "#fb9f3a"
             ],
             [
              0.8888888888888888,
              "#fdca26"
             ],
             [
              1,
              "#f0f921"
             ]
            ],
            "type": "contour"
           }
          ],
          "contourcarpet": [
           {
            "colorbar": {
             "outlinewidth": 0,
             "ticks": ""
            },
            "type": "contourcarpet"
           }
          ],
          "heatmap": [
           {
            "colorbar": {
             "outlinewidth": 0,
             "ticks": ""
            },
            "colorscale": [
             [
              0,
              "#0d0887"
             ],
             [
              0.1111111111111111,
              "#46039f"
             ],
             [
              0.2222222222222222,
              "#7201a8"
             ],
             [
              0.3333333333333333,
              "#9c179e"
             ],
             [
              0.4444444444444444,
              "#bd3786"
             ],
             [
              0.5555555555555556,
              "#d8576b"
             ],
             [
              0.6666666666666666,
              "#ed7953"
             ],
             [
              0.7777777777777778,
              "#fb9f3a"
             ],
             [
              0.8888888888888888,
              "#fdca26"
             ],
             [
              1,
              "#f0f921"
             ]
            ],
            "type": "heatmap"
           }
          ],
          "heatmapgl": [
           {
            "colorbar": {
             "outlinewidth": 0,
             "ticks": ""
            },
            "colorscale": [
             [
              0,
              "#0d0887"
             ],
             [
              0.1111111111111111,
              "#46039f"
             ],
             [
              0.2222222222222222,
              "#7201a8"
             ],
             [
              0.3333333333333333,
              "#9c179e"
             ],
             [
              0.4444444444444444,
              "#bd3786"
             ],
             [
              0.5555555555555556,
              "#d8576b"
             ],
             [
              0.6666666666666666,
              "#ed7953"
             ],
             [
              0.7777777777777778,
              "#fb9f3a"
             ],
             [
              0.8888888888888888,
              "#fdca26"
             ],
             [
              1,
              "#f0f921"
             ]
            ],
            "type": "heatmapgl"
           }
          ],
          "histogram": [
           {
            "marker": {
             "pattern": {
              "fillmode": "overlay",
              "size": 10,
              "solidity": 0.2
             }
            },
            "type": "histogram"
           }
          ],
          "histogram2d": [
           {
            "colorbar": {
             "outlinewidth": 0,
             "ticks": ""
            },
            "colorscale": [
             [
              0,
              "#0d0887"
             ],
             [
              0.1111111111111111,
              "#46039f"
             ],
             [
              0.2222222222222222,
              "#7201a8"
             ],
             [
              0.3333333333333333,
              "#9c179e"
             ],
             [
              0.4444444444444444,
              "#bd3786"
             ],
             [
              0.5555555555555556,
              "#d8576b"
             ],
             [
              0.6666666666666666,
              "#ed7953"
             ],
             [
              0.7777777777777778,
              "#fb9f3a"
             ],
             [
              0.8888888888888888,
              "#fdca26"
             ],
             [
              1,
              "#f0f921"
             ]
            ],
            "type": "histogram2d"
           }
          ],
          "histogram2dcontour": [
           {
            "colorbar": {
             "outlinewidth": 0,
             "ticks": ""
            },
            "colorscale": [
             [
              0,
              "#0d0887"
             ],
             [
              0.1111111111111111,
              "#46039f"
             ],
             [
              0.2222222222222222,
              "#7201a8"
             ],
             [
              0.3333333333333333,
              "#9c179e"
             ],
             [
              0.4444444444444444,
              "#bd3786"
             ],
             [
              0.5555555555555556,
              "#d8576b"
             ],
             [
              0.6666666666666666,
              "#ed7953"
             ],
             [
              0.7777777777777778,
              "#fb9f3a"
             ],
             [
              0.8888888888888888,
              "#fdca26"
             ],
             [
              1,
              "#f0f921"
             ]
            ],
            "type": "histogram2dcontour"
           }
          ],
          "mesh3d": [
           {
            "colorbar": {
             "outlinewidth": 0,
             "ticks": ""
            },
            "type": "mesh3d"
           }
          ],
          "parcoords": [
           {
            "line": {
             "colorbar": {
              "outlinewidth": 0,
              "ticks": ""
             }
            },
            "type": "parcoords"
           }
          ],
          "pie": [
           {
            "automargin": true,
            "type": "pie"
           }
          ],
          "scatter": [
           {
            "fillpattern": {
             "fillmode": "overlay",
             "size": 10,
             "solidity": 0.2
            },
            "type": "scatter"
           }
          ],
          "scatter3d": [
           {
            "line": {
             "colorbar": {
              "outlinewidth": 0,
              "ticks": ""
             }
            },
            "marker": {
             "colorbar": {
              "outlinewidth": 0,
              "ticks": ""
             }
            },
            "type": "scatter3d"
           }
          ],
          "scattercarpet": [
           {
            "marker": {
             "colorbar": {
              "outlinewidth": 0,
              "ticks": ""
             }
            },
            "type": "scattercarpet"
           }
          ],
          "scattergeo": [
           {
            "marker": {
             "colorbar": {
              "outlinewidth": 0,
              "ticks": ""
             }
            },
            "type": "scattergeo"
           }
          ],
          "scattergl": [
           {
            "marker": {
             "colorbar": {
              "outlinewidth": 0,
              "ticks": ""
             }
            },
            "type": "scattergl"
           }
          ],
          "scattermapbox": [
           {
            "marker": {
             "colorbar": {
              "outlinewidth": 0,
              "ticks": ""
             }
            },
            "type": "scattermapbox"
           }
          ],
          "scatterpolar": [
           {
            "marker": {
             "colorbar": {
              "outlinewidth": 0,
              "ticks": ""
             }
            },
            "type": "scatterpolar"
           }
          ],
          "scatterpolargl": [
           {
            "marker": {
             "colorbar": {
              "outlinewidth": 0,
              "ticks": ""
             }
            },
            "type": "scatterpolargl"
           }
          ],
          "scatterternary": [
           {
            "marker": {
             "colorbar": {
              "outlinewidth": 0,
              "ticks": ""
             }
            },
            "type": "scatterternary"
           }
          ],
          "surface": [
           {
            "colorbar": {
             "outlinewidth": 0,
             "ticks": ""
            },
            "colorscale": [
             [
              0,
              "#0d0887"
             ],
             [
              0.1111111111111111,
              "#46039f"
             ],
             [
              0.2222222222222222,
              "#7201a8"
             ],
             [
              0.3333333333333333,
              "#9c179e"
             ],
             [
              0.4444444444444444,
              "#bd3786"
             ],
             [
              0.5555555555555556,
              "#d8576b"
             ],
             [
              0.6666666666666666,
              "#ed7953"
             ],
             [
              0.7777777777777778,
              "#fb9f3a"
             ],
             [
              0.8888888888888888,
              "#fdca26"
             ],
             [
              1,
              "#f0f921"
             ]
            ],
            "type": "surface"
           }
          ],
          "table": [
           {
            "cells": {
             "fill": {
              "color": "#EBF0F8"
             },
             "line": {
              "color": "white"
             }
            },
            "header": {
             "fill": {
              "color": "#C8D4E3"
             },
             "line": {
              "color": "white"
             }
            },
            "type": "table"
           }
          ]
         },
         "layout": {
          "annotationdefaults": {
           "arrowcolor": "#2a3f5f",
           "arrowhead": 0,
           "arrowwidth": 1
          },
          "autotypenumbers": "strict",
          "coloraxis": {
           "colorbar": {
            "outlinewidth": 0,
            "ticks": ""
           }
          },
          "colorscale": {
           "diverging": [
            [
             0,
             "#8e0152"
            ],
            [
             0.1,
             "#c51b7d"
            ],
            [
             0.2,
             "#de77ae"
            ],
            [
             0.3,
             "#f1b6da"
            ],
            [
             0.4,
             "#fde0ef"
            ],
            [
             0.5,
             "#f7f7f7"
            ],
            [
             0.6,
             "#e6f5d0"
            ],
            [
             0.7,
             "#b8e186"
            ],
            [
             0.8,
             "#7fbc41"
            ],
            [
             0.9,
             "#4d9221"
            ],
            [
             1,
             "#276419"
            ]
           ],
           "sequential": [
            [
             0,
             "#0d0887"
            ],
            [
             0.1111111111111111,
             "#46039f"
            ],
            [
             0.2222222222222222,
             "#7201a8"
            ],
            [
             0.3333333333333333,
             "#9c179e"
            ],
            [
             0.4444444444444444,
             "#bd3786"
            ],
            [
             0.5555555555555556,
             "#d8576b"
            ],
            [
             0.6666666666666666,
             "#ed7953"
            ],
            [
             0.7777777777777778,
             "#fb9f3a"
            ],
            [
             0.8888888888888888,
             "#fdca26"
            ],
            [
             1,
             "#f0f921"
            ]
           ],
           "sequentialminus": [
            [
             0,
             "#0d0887"
            ],
            [
             0.1111111111111111,
             "#46039f"
            ],
            [
             0.2222222222222222,
             "#7201a8"
            ],
            [
             0.3333333333333333,
             "#9c179e"
            ],
            [
             0.4444444444444444,
             "#bd3786"
            ],
            [
             0.5555555555555556,
             "#d8576b"
            ],
            [
             0.6666666666666666,
             "#ed7953"
            ],
            [
             0.7777777777777778,
             "#fb9f3a"
            ],
            [
             0.8888888888888888,
             "#fdca26"
            ],
            [
             1,
             "#f0f921"
            ]
           ]
          },
          "colorway": [
           "#636efa",
           "#EF553B",
           "#00cc96",
           "#ab63fa",
           "#FFA15A",
           "#19d3f3",
           "#FF6692",
           "#B6E880",
           "#FF97FF",
           "#FECB52"
          ],
          "font": {
           "color": "#2a3f5f"
          },
          "geo": {
           "bgcolor": "white",
           "lakecolor": "white",
           "landcolor": "#E5ECF6",
           "showlakes": true,
           "showland": true,
           "subunitcolor": "white"
          },
          "hoverlabel": {
           "align": "left"
          },
          "hovermode": "closest",
          "mapbox": {
           "style": "light"
          },
          "paper_bgcolor": "white",
          "plot_bgcolor": "#E5ECF6",
          "polar": {
           "angularaxis": {
            "gridcolor": "white",
            "linecolor": "white",
            "ticks": ""
           },
           "bgcolor": "#E5ECF6",
           "radialaxis": {
            "gridcolor": "white",
            "linecolor": "white",
            "ticks": ""
           }
          },
          "scene": {
           "xaxis": {
            "backgroundcolor": "#E5ECF6",
            "gridcolor": "white",
            "gridwidth": 2,
            "linecolor": "white",
            "showbackground": true,
            "ticks": "",
            "zerolinecolor": "white"
           },
           "yaxis": {
            "backgroundcolor": "#E5ECF6",
            "gridcolor": "white",
            "gridwidth": 2,
            "linecolor": "white",
            "showbackground": true,
            "ticks": "",
            "zerolinecolor": "white"
           },
           "zaxis": {
            "backgroundcolor": "#E5ECF6",
            "gridcolor": "white",
            "gridwidth": 2,
            "linecolor": "white",
            "showbackground": true,
            "ticks": "",
            "zerolinecolor": "white"
           }
          },
          "shapedefaults": {
           "line": {
            "color": "#2a3f5f"
           }
          },
          "ternary": {
           "aaxis": {
            "gridcolor": "white",
            "linecolor": "white",
            "ticks": ""
           },
           "baxis": {
            "gridcolor": "white",
            "linecolor": "white",
            "ticks": ""
           },
           "bgcolor": "#E5ECF6",
           "caxis": {
            "gridcolor": "white",
            "linecolor": "white",
            "ticks": ""
           }
          },
          "title": {
           "x": 0.05
          },
          "xaxis": {
           "automargin": true,
           "gridcolor": "white",
           "linecolor": "white",
           "ticks": "",
           "title": {
            "standoff": 15
           },
           "zerolinecolor": "white",
           "zerolinewidth": 2
          },
          "yaxis": {
           "automargin": true,
           "gridcolor": "white",
           "linecolor": "white",
           "ticks": "",
           "title": {
            "standoff": 15
           },
           "zerolinecolor": "white",
           "zerolinewidth": 2
          }
         }
        },
        "title": {
         "font": {
          "color": "black",
          "family": "Times New Roman",
          "size": 20
         },
         "text": "XGBoost-SSA: Actual vs Predicted"
        },
        "width": 1200,
        "xaxis": {
         "gridcolor": "lightgray",
         "title": {
          "font": {
           "color": "black",
           "family": "Times New Roman",
           "size": 14
          },
          "text": "Time Step"
         }
        },
        "yaxis": {
         "gridcolor": "lightgray",
         "title": {
          "font": {
           "color": "black",
           "family": "Times New Roman",
           "size": 14
          },
          "text": "Load"
         }
        }
       }
      }
     },
     "metadata": {},
     "output_type": "display_data"
    }
   ],
   "source": [
    "# 1. 可视化损失函数下降趋势 \n",
    "\n",
    "# 可视化预测与实际值\n",
    "TrainlenthToShow = len(train_losses)\n",
    "\n",
    "train_loss_curve = go.Scatter(\n",
    "    x=list(range(TrainlenthToShow)),\n",
    "    y=train_losses[:TrainlenthToShow],\n",
    "    mode='lines+markers',\n",
    "    name='Train',\n",
    "    line=dict(color='#36A2EB', width=3, shape='spline'),\n",
    "    marker=dict(symbol='circle', size=5, color='rgba(0,0,0,0)', line=dict(color='#36A2EB', width=2))\n",
    ")\n",
    "\n",
    "train_loss_fig = go.Figure(data=train_loss_curve)\n",
    "\n",
    "train_loss_fig.update_layout(\n",
    "    title='XGBoost-SSA: Train Loss Curve',\n",
    "    title_font=dict(size=20, family='Times New Roman', color='black'),\n",
    "    xaxis=dict(title='Time Step', title_font=dict(size=14, family='Times New Roman', color='black'), gridcolor='lightgray'),\n",
    "    yaxis=dict(title='Load', title_font=dict(size=14, family='Times New Roman', color='black'), gridcolor='lightgray'),\n",
    "    plot_bgcolor='whitesmoke',\n",
    "    paper_bgcolor='whitesmoke',\n",
    "    font=dict(family='Times New Roman', size=12, color='black'),\n",
    "    legend=dict(x=0.5, y=1.1, xanchor='center', orientation='h', traceorder='normal',\n",
    "                font=dict(family='Times New Roman', size=12, color='black'),\n",
    "                bgcolor='rgba(255, 255, 255, 0.5)', bordercolor='black', borderwidth=1),\n",
    "    showlegend=True\n",
    ")\n",
    "\n",
    "train_loss_fig.update_layout(paper_bgcolor='rgba(240, 240, 240, 0.9)', plot_bgcolor='rgba(255, 255, 255, 0.9)', width=1200, height=600)\n",
    "\n",
    "train_loss_fig.show()\n",
    "\n",
    "#2. 可视化预测与实际值\n",
    "TestlenthToShow = 100\n",
    "\n",
    "actual_trace = go.Scatter(\n",
    "    x=list(range(TestlenthToShow)),\n",
    "    y=y_test_inverse[:TestlenthToShow].flatten(),\n",
    "    mode='lines+markers',\n",
    "    name='Actual',\n",
    "    line=dict(color='#FF6347', width=3, shape='spline'), # spline会进行插值 让它看起来平滑\n",
    "    marker=dict(symbol='circle', size=5, color='rgba(0,0,0,0)', line=dict(color='#FF0000', width=2))\n",
    ")\n",
    "\n",
    "predicted_trace = go.Scatter(\n",
    "    x=list(range(TestlenthToShow)),\n",
    "    y=y_pred_inverse[:TestlenthToShow].flatten(),\n",
    "    mode='lines+markers',\n",
    "    name='Predicted',\n",
    "    line=dict(color='#36A2EB', width=3, dash='dot', shape='spline'),\n",
    "    marker=dict(symbol='x', size=5, color='rgba(0,0,0,0)', line=dict(color='#007bff', width=2))\n",
    ")\n",
    "\n",
    "comparison_fig = go.Figure(data=[actual_trace, predicted_trace])\n",
    "\n",
    "comparison_fig.update_layout(\n",
    "    title='XGBoost-SSA: Actual vs Predicted',\n",
    "    title_font=dict(size=20, family='Times New Roman', color='black'),\n",
    "    xaxis=dict(title='Time Step', title_font=dict(size=14, family='Times New Roman', color='black'), gridcolor='lightgray'),\n",
    "    yaxis=dict(title='Load', title_font=dict(size=14, family='Times New Roman', color='black'), gridcolor='lightgray'),\n",
    "    plot_bgcolor='whitesmoke',\n",
    "    paper_bgcolor='whitesmoke',\n",
    "    font=dict(family='Times New Roman', size=12, color='black'),\n",
    "    legend=dict(x=0.5, y=1.1, xanchor='center', orientation='h', traceorder='normal',\n",
    "                font=dict(family='Times New Roman', size=12, color='black'),\n",
    "                bgcolor='rgba(255, 255, 255, 0.5)', bordercolor='black', borderwidth=1),\n",
    "    showlegend=True\n",
    ")\n",
    "\n",
    "comparison_fig.update_layout(paper_bgcolor='rgba(240, 240, 240, 0.9)', plot_bgcolor='rgba(255, 255, 255, 0.9)', width=1200, height=600)\n",
    "\n",
    "comparison_fig.show()"
   ]
  }
 ],
 "metadata": {
  "kernelspec": {
   "display_name": "pytorch",
   "language": "python",
   "name": "python3"
  },
  "language_info": {
   "codemirror_mode": {
    "name": "ipython",
    "version": 3
   },
   "file_extension": ".py",
   "mimetype": "text/x-python",
   "name": "python",
   "nbconvert_exporter": "python",
   "pygments_lexer": "ipython3",
   "version": "3.8.20"
  }
 },
 "nbformat": 4,
 "nbformat_minor": 2
}
